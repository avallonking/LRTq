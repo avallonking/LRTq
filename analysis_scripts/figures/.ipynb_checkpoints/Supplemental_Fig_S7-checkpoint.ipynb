{
 "cells": [
  {
   "cell_type": "markdown",
   "metadata": {},
   "source": [
    "### Venn diagram for methods"
   ]
  },
  {
   "cell_type": "code",
   "execution_count": 1,
   "metadata": {},
   "outputs": [
    {
     "name": "stderr",
     "output_type": "stream",
     "text": [
      "Loading required package: grid\n",
      "Loading required package: futile.logger\n"
     ]
    }
   ],
   "source": [
    "library(data.table)\n",
    "library(VennDiagram)\n",
    "library(RColorBrewer)\n",
    "library(scales)"
   ]
  },
  {
   "cell_type": "code",
   "execution_count": 2,
   "metadata": {},
   "outputs": [],
   "source": [
    "tissues = c(\"Whole_Blood\", \"Muscle_Skeletal\", \"Thyroid\", \"Skin_Sun_Exposed_Lower_leg\")\n",
    "method = c(\"lrt\", \"skat\", \"vt\", \"acat.o\")"
   ]
  },
  {
   "cell_type": "code",
   "execution_count": 3,
   "metadata": {},
   "outputs": [],
   "source": [
    "qvals = lapply(unlist(lapply(paste(\"./data/qvals\", tissues, sep=\"/\"), function(x) paste(x, method, \"q\", sep=\".\"))), fread)"
   ]
  },
  {
   "cell_type": "code",
   "execution_count": 4,
   "metadata": {},
   "outputs": [],
   "source": [
    "count.egenes <- function(df) {\n",
    "    egenes <- df$Gene_ID[apply(df, 1, function(x) { any(as.numeric(x[-1]) < 0.05) })]\n",
    "    return(egenes)\n",
    "}"
   ]
  },
  {
   "cell_type": "code",
   "execution_count": 5,
   "metadata": {},
   "outputs": [],
   "source": [
    "egenes = lapply(qvals, count.egenes)"
   ]
  },
  {
   "cell_type": "code",
   "execution_count": 7,
   "metadata": {},
   "outputs": [
    {
     "data": {
      "text/html": [
       "0.617642769428436"
      ],
      "text/latex": [
       "0.617642769428436"
      ],
      "text/markdown": [
       "0.617642769428436"
      ],
      "text/plain": [
       "[1] 0.6176428"
      ]
     },
     "metadata": {},
     "output_type": "display_data"
    },
    {
     "data": {
      "text/html": [
       "0.631583936110871"
      ],
      "text/latex": [
       "0.631583936110871"
      ],
      "text/markdown": [
       "0.631583936110871"
      ],
      "text/plain": [
       "[1] 0.6315839"
      ]
     },
     "metadata": {},
     "output_type": "display_data"
    }
   ],
   "source": [
    "# avg. lrt shared with skat\n",
    "mean(\n",
    "    c(\n",
    "        sum((egenes[[1]] %in% egenes[[2]])) / length(egenes[[2]]),\n",
    "        sum((egenes[[5]] %in% egenes[[6]])) / length(egenes[[6]]),\n",
    "        sum((egenes[[9]] %in% egenes[[10]])) / length(egenes[[10]]),\n",
    "        sum((egenes[[13]] %in% egenes[[14]])) / length(egenes[[14]])\n",
    "    )\n",
    ")\n",
    "\n",
    "# avg. lrt shared with skat\n",
    "mean(\n",
    "    c(\n",
    "        sum((egenes[[1]] %in% egenes[[2]])) / length(egenes[[1]]),\n",
    "        sum((egenes[[5]] %in% egenes[[6]])) / length(egenes[[5]]),\n",
    "        sum((egenes[[9]] %in% egenes[[10]])) / length(egenes[[9]]),\n",
    "        sum((egenes[[13]] %in% egenes[[14]])) / length(egenes[[13]])\n",
    "    )\n",
    ")"
   ]
  },
  {
   "cell_type": "code",
   "execution_count": 8,
   "metadata": {},
   "outputs": [
    {
     "data": {
      "text/html": [
       "0.803989732561047"
      ],
      "text/latex": [
       "0.803989732561047"
      ],
      "text/markdown": [
       "0.803989732561047"
      ],
      "text/plain": [
       "[1] 0.8039897"
      ]
     },
     "metadata": {},
     "output_type": "display_data"
    },
    {
     "data": {
      "text/html": [
       "0.0896398024539043"
      ],
      "text/latex": [
       "0.0896398024539043"
      ],
      "text/markdown": [
       "0.0896398024539043"
      ],
      "text/plain": [
       "[1] 0.0896398"
      ]
     },
     "metadata": {},
     "output_type": "display_data"
    }
   ],
   "source": [
    "# avg. lrt shared with vt\n",
    "mean(\n",
    "    c(\n",
    "        sum((egenes[[1]] %in% egenes[[3]])) / length(egenes[[3]]),\n",
    "        sum((egenes[[5]] %in% egenes[[7]])) / length(egenes[[7]]),\n",
    "        sum((egenes[[9]] %in% egenes[[11]])) / length(egenes[[11]]),\n",
    "        sum((egenes[[13]] %in% egenes[[15]])) / length(egenes[[15]])\n",
    "    )\n",
    ")\n",
    "\n",
    "# avg. lrt shared with vt\n",
    "mean(\n",
    "    c(\n",
    "        sum((egenes[[1]] %in% egenes[[3]])) / length(egenes[[1]]),\n",
    "        sum((egenes[[5]] %in% egenes[[7]])) / length(egenes[[5]]),\n",
    "        sum((egenes[[9]] %in% egenes[[11]])) / length(egenes[[9]]),\n",
    "        sum((egenes[[13]] %in% egenes[[15]])) / length(egenes[[13]])\n",
    "    )\n",
    ")"
   ]
  },
  {
   "cell_type": "code",
   "execution_count": 9,
   "metadata": {},
   "outputs": [
    {
     "data": {
      "text/html": [
       "0.722890467820845"
      ],
      "text/latex": [
       "0.722890467820845"
      ],
      "text/markdown": [
       "0.722890467820845"
      ],
      "text/plain": [
       "[1] 0.7228905"
      ]
     },
     "metadata": {},
     "output_type": "display_data"
    },
    {
     "data": {
      "text/html": [
       "0.496829624899474"
      ],
      "text/latex": [
       "0.496829624899474"
      ],
      "text/markdown": [
       "0.496829624899474"
      ],
      "text/plain": [
       "[1] 0.4968296"
      ]
     },
     "metadata": {},
     "output_type": "display_data"
    }
   ],
   "source": [
    "# avg. lrt shared with acat\n",
    "mean(\n",
    "    c(\n",
    "        sum((egenes[[1]] %in% egenes[[4]])) / length(egenes[[4]]),\n",
    "        sum((egenes[[5]] %in% egenes[[8]])) / length(egenes[[8]]),\n",
    "        sum((egenes[[9]] %in% egenes[[12]])) / length(egenes[[12]]),\n",
    "        sum((egenes[[13]] %in% egenes[[16]])) / length(egenes[[16]])\n",
    "    )\n",
    ")\n",
    "\n",
    "# avg. lrt shared with acat\n",
    "mean(\n",
    "    c(\n",
    "        sum((egenes[[1]] %in% egenes[[4]])) / length(egenes[[1]]),\n",
    "        sum((egenes[[5]] %in% egenes[[8]])) / length(egenes[[5]]),\n",
    "        sum((egenes[[9]] %in% egenes[[12]])) / length(egenes[[9]]),\n",
    "        sum((egenes[[13]] %in% egenes[[16]])) / length(egenes[[13]])\n",
    "    )\n",
    ")"
   ]
  },
  {
   "cell_type": "code",
   "execution_count": 10,
   "metadata": {},
   "outputs": [
    {
     "data": {
      "text/html": [
       "0.631583936110871"
      ],
      "text/latex": [
       "0.631583936110871"
      ],
      "text/markdown": [
       "0.631583936110871"
      ],
      "text/plain": [
       "[1] 0.6315839"
      ]
     },
     "metadata": {},
     "output_type": "display_data"
    },
    {
     "data": {
      "text/html": [
       "0.617642769428436"
      ],
      "text/latex": [
       "0.617642769428436"
      ],
      "text/markdown": [
       "0.617642769428436"
      ],
      "text/plain": [
       "[1] 0.6176428"
      ]
     },
     "metadata": {},
     "output_type": "display_data"
    }
   ],
   "source": [
    "# avg. skat shared with lrt\n",
    "mean(\n",
    "    c(\n",
    "        sum((egenes[[2]] %in% egenes[[1]])) / length(egenes[[1]]),\n",
    "        sum((egenes[[6]] %in% egenes[[5]])) / length(egenes[[5]]),\n",
    "        sum((egenes[[10]] %in% egenes[[9]])) / length(egenes[[9]]),\n",
    "        sum((egenes[[14]] %in% egenes[[13]])) / length(egenes[[13]])\n",
    "    )\n",
    ")\n",
    "\n",
    "# avg. skat shared with lrt\n",
    "mean(\n",
    "    c(\n",
    "        sum((egenes[[2]] %in% egenes[[1]])) / length(egenes[[2]]),\n",
    "        sum((egenes[[6]] %in% egenes[[5]])) / length(egenes[[6]]),\n",
    "        sum((egenes[[10]] %in% egenes[[9]])) / length(egenes[[10]]),\n",
    "        sum((egenes[[14]] %in% egenes[[13]])) / length(egenes[[14]])\n",
    "    )\n",
    ")"
   ]
  },
  {
   "cell_type": "code",
   "execution_count": 11,
   "metadata": {},
   "outputs": [
    {
     "data": {
      "text/html": [
       "0.923522524258988"
      ],
      "text/latex": [
       "0.923522524258988"
      ],
      "text/markdown": [
       "0.923522524258988"
      ],
      "text/plain": [
       "[1] 0.9235225"
      ]
     },
     "metadata": {},
     "output_type": "display_data"
    },
    {
     "data": {
      "text/html": [
       "0.10091531318275"
      ],
      "text/latex": [
       "0.10091531318275"
      ],
      "text/markdown": [
       "0.10091531318275"
      ],
      "text/plain": [
       "[1] 0.1009153"
      ]
     },
     "metadata": {},
     "output_type": "display_data"
    }
   ],
   "source": [
    "# avg. skat shared with vt\n",
    "mean(\n",
    "    c(\n",
    "        sum((egenes[[2]] %in% egenes[[3]])) / length(egenes[[3]]),\n",
    "        sum((egenes[[6]] %in% egenes[[7]])) / length(egenes[[7]]),\n",
    "        sum((egenes[[10]] %in% egenes[[11]])) / length(egenes[[11]]),\n",
    "        sum((egenes[[14]] %in% egenes[[15]])) / length(egenes[[15]])\n",
    "    )\n",
    ")\n",
    "\n",
    "# avg. skat shared with vt\n",
    "mean(\n",
    "    c(\n",
    "        sum((egenes[[2]] %in% egenes[[3]])) / length(egenes[[2]]),\n",
    "        sum((egenes[[6]] %in% egenes[[7]])) / length(egenes[[6]]),\n",
    "        sum((egenes[[10]] %in% egenes[[11]])) / length(egenes[[10]]),\n",
    "        sum((egenes[[14]] %in% egenes[[15]])) / length(egenes[[14]])\n",
    "    )\n",
    ")"
   ]
  },
  {
   "cell_type": "code",
   "execution_count": 12,
   "metadata": {},
   "outputs": [
    {
     "data": {
      "text/html": [
       "0.920145169408412"
      ],
      "text/latex": [
       "0.920145169408412"
      ],
      "text/markdown": [
       "0.920145169408412"
      ],
      "text/plain": [
       "[1] 0.9201452"
      ]
     },
     "metadata": {},
     "output_type": "display_data"
    },
    {
     "data": {
      "text/html": [
       "0.61758610786203"
      ],
      "text/latex": [
       "0.61758610786203"
      ],
      "text/markdown": [
       "0.61758610786203"
      ],
      "text/plain": [
       "[1] 0.6175861"
      ]
     },
     "metadata": {},
     "output_type": "display_data"
    }
   ],
   "source": [
    "# avg. skat shared with acat\n",
    "mean(\n",
    "    c(\n",
    "        sum((egenes[[2]] %in% egenes[[4]])) / length(egenes[[4]]),\n",
    "        sum((egenes[[6]] %in% egenes[[8]])) / length(egenes[[8]]),\n",
    "        sum((egenes[[10]] %in% egenes[[12]])) / length(egenes[[12]]),\n",
    "        sum((egenes[[14]] %in% egenes[[16]])) / length(egenes[[16]])\n",
    "    )\n",
    ")\n",
    "\n",
    "# avg. skat shared with acat\n",
    "mean(\n",
    "    c(\n",
    "        sum((egenes[[2]] %in% egenes[[4]])) / length(egenes[[2]]),\n",
    "        sum((egenes[[6]] %in% egenes[[8]])) / length(egenes[[6]]),\n",
    "        sum((egenes[[10]] %in% egenes[[12]])) / length(egenes[[10]]),\n",
    "        sum((egenes[[14]] %in% egenes[[16]])) / length(egenes[[14]])\n",
    "    )\n",
    ")"
   ]
  },
  {
   "cell_type": "markdown",
   "metadata": {},
   "source": [
    "#### Supplemental Fig S7D"
   ]
  },
  {
   "cell_type": "code",
   "execution_count": 33,
   "metadata": {},
   "outputs": [
    {
     "data": {
      "text/html": [
       "1"
      ],
      "text/latex": [
       "1"
      ],
      "text/markdown": [
       "1"
      ],
      "text/plain": [
       "[1] 1"
      ]
     },
     "metadata": {},
     "output_type": "display_data"
    }
   ],
   "source": [
    "# whole blood\n",
    "selected.tissue = \"Whole_Blood\"\n",
    "myCol <- brewer.pal(4, \"Pastel2\")\n",
    "venn.diagram(\n",
    "    x = list(egenes[[1]], egenes[[3]], egenes[[2]], egenes[[4]]),\n",
    "    category.names = c(\"LRT-q\" , \"VT\", \"SKAT-O\", \"ACAT-O\"),\n",
    "    filename = paste(\"../materials/venn.diagram\", selected.tissue, \"egenes.png\", sep=\".\"),\n",
    "    output=T,\n",
    "    main=selected.tissue,\n",
    "    main.cex = 0.5,\n",
    "    main.fontfamily = \"sans\",\n",
    "    \n",
    "    # Output features\n",
    "    imagetype=\"png\" ,\n",
    "    height = 480 ,\n",
    "    width = 480 ,\n",
    "    resolution = 300,\n",
    "    compression = \"lzw\",\n",
    "\n",
    "    # Circles\n",
    "    lwd = 1,\n",
    "    col = myCol,\n",
    "    fill = unlist(lapply(myCol, function(x) alpha(x, 0.3))),\n",
    "\n",
    "    # Numbers\n",
    "    cex = .4,\n",
    "    # fontface = \"bold\",\n",
    "    fontfamily = \"sans\",\n",
    "\n",
    "    # Set names\n",
    "    cat.cex = 0.4,\n",
    "    cat.fontface = \"bold\",\n",
    "    cat.default.pos = \"outer\",\n",
    "    # cat.pos = c(-27, 23, 135, 13),\n",
    "    # cat.dist = c(0.055, 0.035, 0.085, 0.02),\n",
    "    cat.fontfamily = \"sans\",\n",
    "    cat.col = myCol\n",
    "    # rotation = 1\n",
    "  )"
   ]
  },
  {
   "cell_type": "markdown",
   "metadata": {},
   "source": [
    "#### Supplemental Fig S7A"
   ]
  },
  {
   "cell_type": "code",
   "execution_count": 35,
   "metadata": {},
   "outputs": [
    {
     "data": {
      "text/html": [
       "1"
      ],
      "text/latex": [
       "1"
      ],
      "text/markdown": [
       "1"
      ],
      "text/plain": [
       "[1] 1"
      ]
     },
     "metadata": {},
     "output_type": "display_data"
    }
   ],
   "source": [
    "# muscle skeletal\n",
    "selected.tissue = \"Muscle_Skeletal\"\n",
    "myCol <- brewer.pal(4, \"Pastel2\")\n",
    "venn.diagram(\n",
    "    x = list(egenes[[5]], egenes[[7]], egenes[[6]], egenes[[8]]),\n",
    "    category.names = c(\"LRT-q\" , \"VT\", \"SKAT-O\", \"ACAT-O\"),\n",
    "    filename = paste(\"../materials/venn.diagram\", selected.tissue, \"egenes.png\", sep=\".\"),\n",
    "    output=T,\n",
    "    main=selected.tissue,\n",
    "    main.cex = 0.5,\n",
    "    main.fontfamily = \"sans\",\n",
    "    \n",
    "    # Output features\n",
    "    imagetype=\"png\" ,\n",
    "    height = 480 ,\n",
    "    width = 480 ,\n",
    "    resolution = 300,\n",
    "    compression = \"lzw\",\n",
    "\n",
    "    # Circles\n",
    "    lwd = 1,\n",
    "    col = myCol,\n",
    "    fill = unlist(lapply(myCol, function(x) alpha(x, 0.3))),\n",
    "\n",
    "    # Numbers\n",
    "    cex = .4,\n",
    "    # fontface = \"bold\",\n",
    "    fontfamily = \"sans\",\n",
    "\n",
    "    # Set names\n",
    "    cat.cex = 0.4,\n",
    "    cat.fontface = \"bold\",\n",
    "    cat.default.pos = \"outer\",\n",
    "    # cat.pos = c(-27, 23, 135, 13),\n",
    "    # cat.dist = c(0.055, 0.035, 0.085, 0.02),\n",
    "    cat.fontfamily = \"sans\",\n",
    "    cat.col = myCol\n",
    "    # rotation = 1\n",
    "  )"
   ]
  },
  {
   "cell_type": "markdown",
   "metadata": {},
   "source": [
    "#### Supplemental Fig S7C"
   ]
  },
  {
   "cell_type": "code",
   "execution_count": 36,
   "metadata": {},
   "outputs": [
    {
     "data": {
      "text/html": [
       "1"
      ],
      "text/latex": [
       "1"
      ],
      "text/markdown": [
       "1"
      ],
      "text/plain": [
       "[1] 1"
      ]
     },
     "metadata": {},
     "output_type": "display_data"
    }
   ],
   "source": [
    "# thyroid\n",
    "selected.tissue = \"Thyroid\"\n",
    "myCol <- brewer.pal(4, \"Pastel2\")\n",
    "venn.diagram(\n",
    "    x = list(egenes[[9]], egenes[[11]], egenes[[10]], egenes[[12]]),\n",
    "    category.names = c(\"LRT-q\" , \"VT\", \"SKAT-O\", \"ACAT-O\"),\n",
    "    filename = paste(\"../materials/venn.diagram\", selected.tissue, \"egenes.png\", sep=\".\"),\n",
    "    output=T,\n",
    "    main=selected.tissue,\n",
    "    main.cex = 0.5,\n",
    "    main.fontfamily = \"sans\",\n",
    "    \n",
    "    # Output features\n",
    "    imagetype=\"png\" ,\n",
    "    height = 480 ,\n",
    "    width = 480 ,\n",
    "    resolution = 300,\n",
    "    compression = \"lzw\",\n",
    "\n",
    "    # Circles\n",
    "    lwd = 1,\n",
    "    col = myCol,\n",
    "    fill = unlist(lapply(myCol, function(x) alpha(x, 0.3))),\n",
    "\n",
    "    # Numbers\n",
    "    cex = .4,\n",
    "    # fontface = \"bold\",\n",
    "    fontfamily = \"sans\",\n",
    "\n",
    "    # Set names\n",
    "    cat.cex = 0.4,\n",
    "    cat.fontface = \"bold\",\n",
    "    cat.default.pos = \"outer\",\n",
    "    # cat.pos = c(-27, 23, 135, 13),\n",
    "    # cat.dist = c(0.055, 0.035, 0.085, 0.02),\n",
    "    cat.fontfamily = \"sans\",\n",
    "    cat.col = myCol\n",
    "    # rotation = 1\n",
    "  )"
   ]
  },
  {
   "cell_type": "markdown",
   "metadata": {},
   "source": [
    "#### Supplemental Fig S7B"
   ]
  },
  {
   "cell_type": "code",
   "execution_count": 37,
   "metadata": {},
   "outputs": [
    {
     "data": {
      "text/html": [
       "1"
      ],
      "text/latex": [
       "1"
      ],
      "text/markdown": [
       "1"
      ],
      "text/plain": [
       "[1] 1"
      ]
     },
     "metadata": {},
     "output_type": "display_data"
    }
   ],
   "source": [
    "# Skin_Sun_Exposed_Lower_leg\n",
    "selected.tissue = \"Skin_Sun_Exposed_Lower_leg\"\n",
    "myCol <- brewer.pal(4, \"Pastel2\")\n",
    "venn.diagram(\n",
    "    x = list(egenes[[13]], egenes[[15]], egenes[[14]], egenes[[16]]),\n",
    "    category.names = c(\"LRT-q\" , \"VT\", \"SKAT-O\", \"ACAT-O\"),\n",
    "    filename = paste(\"../materials/venn.diagram\", selected.tissue, \"egenes.png\", sep=\".\"),\n",
    "    output=T,\n",
    "    main=selected.tissue,\n",
    "    main.cex = 0.5,\n",
    "    main.fontfamily = \"sans\",\n",
    "    \n",
    "    # Output features\n",
    "    imagetype=\"png\" ,\n",
    "    height = 480 ,\n",
    "    width = 480 ,\n",
    "    resolution = 300,\n",
    "    compression = \"lzw\",\n",
    "\n",
    "    # Circles\n",
    "    lwd = 1,\n",
    "    col = myCol,\n",
    "    fill = unlist(lapply(myCol, function(x) alpha(x, 0.3))),\n",
    "\n",
    "    # Numbers\n",
    "    cex = .4,\n",
    "    # fontface = \"bold\",\n",
    "    fontfamily = \"sans\",\n",
    "\n",
    "    # Set names\n",
    "    cat.cex = 0.4,\n",
    "    cat.fontface = \"bold\",\n",
    "    cat.default.pos = \"outer\",\n",
    "    # cat.pos = c(-27, 23, 135, 13),\n",
    "    # cat.dist = c(0.055, 0.035, 0.085, 0.02),\n",
    "    cat.fontfamily = \"sans\",\n",
    "    cat.col = myCol\n",
    "    # rotation = 1\n",
    "  )"
   ]
  }
 ],
 "metadata": {
  "kernelspec": {
   "display_name": "Python 3",
   "language": "python",
   "name": "python3"
  },
  "language_info": {
   "codemirror_mode": {
    "name": "ipython",
    "version": 3
   },
   "file_extension": ".py",
   "mimetype": "text/x-python",
   "name": "python",
   "nbconvert_exporter": "python",
   "pygments_lexer": "ipython3",
   "version": "3.7.4"
  }
 },
 "nbformat": 4,
 "nbformat_minor": 4
}

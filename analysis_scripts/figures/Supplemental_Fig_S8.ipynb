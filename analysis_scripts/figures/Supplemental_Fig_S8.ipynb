{
 "cells": [
  {
   "cell_type": "code",
   "execution_count": 1,
   "metadata": {},
   "outputs": [
    {
     "name": "stderr",
     "output_type": "stream",
     "text": [
      "Loading required package: ggplot2\n",
      "Loading required package: magrittr\n"
     ]
    }
   ],
   "source": [
    "library(data.table)\n",
    "library(RColorBrewer)\n",
    "library(ggpubr)\n",
    "library(Cairo)"
   ]
  },
  {
   "cell_type": "code",
   "execution_count": 92,
   "metadata": {},
   "outputs": [],
   "source": [
    "tissues = c(\"Muscle_Skeletal\", \"Skin_Sun_Exposed_Lower_leg\", \"Thyroid\", \"Whole_Blood\")\n",
    "dis = c(\"100kb\", \"50kb\", \"20kb\")"
   ]
  },
  {
   "cell_type": "code",
   "execution_count": 43,
   "metadata": {},
   "outputs": [],
   "source": [
    "file.dir = unlist(lapply(tissues, function(x) paste(\"./data/pvals/\", x, \"/modified_fixed/maf0.05_regress_out_common_eqtls_\", \n",
    "                                             dis, \"/perm10k/all_weights\", sep=\"\")))"
   ]
  },
  {
   "cell_type": "code",
   "execution_count": 18,
   "metadata": {},
   "outputs": [],
   "source": [
    "pvals = lapply(file.dir, function(x) rbindlist(lapply(dir(x, pattern=\"lrt\", full.names=T), fread)))"
   ]
  },
  {
   "cell_type": "code",
   "execution_count": 23,
   "metadata": {},
   "outputs": [],
   "source": [
    "saveRDS(pvals, \"./data/regress_out_common_eqtl/maf05.regress.out.common.eqtls.pvals.rds\")"
   ]
  },
  {
   "cell_type": "code",
   "execution_count": 44,
   "metadata": {},
   "outputs": [],
   "source": [
    "pvals = readRDS(\"./data/regress_out_common_eqtl/maf05.regress.out.common.eqtls.pvals.rds\")"
   ]
  },
  {
   "cell_type": "code",
   "execution_count": 45,
   "metadata": {},
   "outputs": [],
   "source": [
    "pvals = lapply(pvals, na.omit)"
   ]
  },
  {
   "cell_type": "code",
   "execution_count": 46,
   "metadata": {},
   "outputs": [],
   "source": [
    "names(pvals) = unlist(lapply(tissues, function(x) paste(x, dis, sep=\"_\")))"
   ]
  },
  {
   "cell_type": "code",
   "execution_count": 47,
   "metadata": {},
   "outputs": [],
   "source": [
    "orig.pvals.dir = paste(\"./data/pvals/\", tissues, \"/modified_fixed/maf0.05/perm10k/all_weights\", sep=\"\")\n",
    "pvals.orig = lapply(orig.pvals.dir, function(x) rbindlist(lapply(dir(x, pattern=\"lrt\", full.names=T), fread)))"
   ]
  },
  {
   "cell_type": "code",
   "execution_count": 48,
   "metadata": {},
   "outputs": [],
   "source": [
    "pvals.orig = lapply(pvals.orig, na.omit)"
   ]
  },
  {
   "cell_type": "code",
   "execution_count": 49,
   "metadata": {},
   "outputs": [],
   "source": [
    "names(pvals.orig) = tissues"
   ]
  },
  {
   "cell_type": "code",
   "execution_count": 161,
   "metadata": {},
   "outputs": [
    {
     "name": "stdout",
     "output_type": "stream",
     "text": [
      "[1] \"Muscle_Skeletal\" \"100kb\"          \n",
      "[1] \"Muscle_Skeletal\" \"50kb\"           \n",
      "[1] \"Muscle_Skeletal\" \"20kb\"           \n",
      "[1] \"Skin_Sun_Exposed_Lower_leg\" \"100kb\"                     \n",
      "[1] \"Skin_Sun_Exposed_Lower_leg\" \"50kb\"                      \n",
      "[1] \"Skin_Sun_Exposed_Lower_leg\" \"20kb\"                      \n",
      "[1] \"Thyroid\" \"100kb\"  \n",
      "[1] \"Thyroid\" \"50kb\"   \n",
      "[1] \"Thyroid\" \"20kb\"   \n",
      "[1] \"Whole_Blood\" \"100kb\"      \n",
      "[1] \"Whole_Blood\" \"50kb\"       \n",
      "[1] \"Whole_Blood\" \"20kb\"       \n"
     ]
    }
   ],
   "source": [
    "for (selected.tissue in tissues) {\n",
    "    for (selected.dis in dis) {\n",
    "        print(c(selected.tissue, selected.dis))\n",
    "        selected.pvals = pvals[paste(selected.tissue, selected.dis, sep=\"_\")]\n",
    "        selected.pvals.orig = pvals.orig[selected.tissue]\n",
    "        match.idx = match(selected.pvals[[1]]$Gene_ID, selected.pvals.orig[[1]]$Gene_ID)\n",
    "        selected.pvals.orig[[1]] = selected.pvals.orig[[1]][match.idx, ]\n",
    "        min.selected.pvals = apply(selected.pvals[[1]][, -1], 1, min)\n",
    "        min.selected.pvals.orig = apply(selected.pvals.orig[[1]][, -1], 1, min)\n",
    "\n",
    "        diff.pvals.all = selected.pvals[[1]][, -1] - selected.pvals.orig[[1]][, -1]\n",
    "\n",
    "        CairoPDF(paste(\"./data/regress_out_common_eqtl/changes.p.values\", selected.tissue, selected.dis, \"pdf\", sep=\".\"), height = 7)\n",
    "        par(mar=c(10,4,4,1)+0.1)\n",
    "        boxplot(diff.pvals.all, col = brewer.pal(8, \"Pastel2\"), xaxt=\"n\", pch=16, cex=0.5, ylab = \"Changes in p-values\", \n",
    "                main = paste(\"Regress out common eQTLs within\", selected.dis, \"\\nfrom TSS in\", selected.tissue))\n",
    "        axis(side = 1, labels = F)\n",
    "        text(x = 1:8,\n",
    "             y = par(\"usr\")[3]-0.08,\n",
    "             labels = colnames(diff.pvals.all),\n",
    "             xpd = NA,\n",
    "             srt = 90,\n",
    "             adj = 0.96,\n",
    "             cex = 0.9)\n",
    "        text(x = 4.5, y = par(\"usr\")[3]-0.9, labels=\"Weights\", xpd=NA, cex=1.1)\n",
    "        dev.off()\n",
    "    }\n",
    "}"
   ]
  }
 ],
 "metadata": {
  "kernelspec": {
   "display_name": "Python 3",
   "language": "python",
   "name": "python3"
  },
  "language_info": {
   "codemirror_mode": {
    "name": "ipython",
    "version": 3
   },
   "file_extension": ".py",
   "mimetype": "text/x-python",
   "name": "python",
   "nbconvert_exporter": "python",
   "pygments_lexer": "ipython3",
   "version": "3.7.4"
  }
 },
 "nbformat": 4,
 "nbformat_minor": 4
}

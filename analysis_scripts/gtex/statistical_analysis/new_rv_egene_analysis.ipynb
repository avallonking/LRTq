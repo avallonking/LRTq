{
 "cells": [
  {
   "cell_type": "markdown",
   "metadata": {},
   "source": [
    "#### Tissue-specific RV eGenes"
   ]
  },
  {
   "cell_type": "code",
   "execution_count": 1,
   "metadata": {},
   "outputs": [
    {
     "name": "stderr",
     "output_type": "stream",
     "text": [
      "\n",
      "Attaching package: ‘dplyr’\n",
      "\n",
      "The following objects are masked from ‘package:data.table’:\n",
      "\n",
      "    between, first, last\n",
      "\n",
      "The following objects are masked from ‘package:stats’:\n",
      "\n",
      "    filter, lag\n",
      "\n",
      "The following objects are masked from ‘package:base’:\n",
      "\n",
      "    intersect, setdiff, setequal, union\n",
      "\n"
     ]
    }
   ],
   "source": [
    "library(data.table)\n",
    "library(dplyr)\n",
    "\n",
    "load.data <- function(tissue) {\n",
    "    filename <- paste(\"/u/project/eeskin2/k8688933/rare_var/results/tss_20k_v8/result_summary/qvals/\", tissue, \".lrt.q\", sep=\"\")\n",
    "    \n",
    "    return(fread(filename, data.table=F))\n",
    "}\n",
    "\n",
    "get.egenes <- function(qvals) {\n",
    "    egenes = qvals$Gene_ID[apply(qvals, 1, function(x) {any(as.numeric(x[-1]) < 0.05)})]\n",
    "    return(egenes)\n",
    "}\n",
    "\n",
    "get.tissue.specific.genes <- function(egenes.list) {\n",
    "    res = vector(\"list\", length(egenes.list))\n",
    "    names(res) = names(egenes.list)\n",
    "    for (i in 1:length(egenes.list)) {\n",
    "        res[[i]] = egenes.list[[i]][!egenes.list[[i]] %in% unique(unlist(egenes.list[-i]))]\n",
    "    }\n",
    "    return(res)\n",
    "}"
   ]
  },
  {
   "cell_type": "code",
   "execution_count": 2,
   "metadata": {},
   "outputs": [],
   "source": [
    "sample.info = fread(\"/u/project/eeskin2/k8688933/rare_var/results/tss_20k_v8/result_summary/tissue.name.match.csv\")\n",
    "tissues = sample.info$tissue\n",
    "\n",
    "q.data = lapply(tissues, load.data)\n",
    "names(q.data) = tissues"
   ]
  },
  {
   "cell_type": "code",
   "execution_count": 3,
   "metadata": {},
   "outputs": [],
   "source": [
    "egenes = lapply(q.data, get.egenes)"
   ]
  },
  {
   "cell_type": "code",
   "execution_count": 4,
   "metadata": {},
   "outputs": [],
   "source": [
    "res = get.tissue.specific.genes(egenes)"
   ]
  },
  {
   "cell_type": "code",
   "execution_count": 6,
   "metadata": {},
   "outputs": [],
   "source": [
    "fwrite(as.list(res$Lung), \"../tissue_specific_egenes_by_tissue/Lung.tissue.specifc.rv.egenes.tsv\", sep=\"\\n\")\n",
    "fwrite(as.list(res$Liver), \"../tissue_specific_egenes_by_tissue/Liver.tissue.specifc.rv.egenes.tsv\", sep=\"\\n\")\n",
    "fwrite(as.list(res$Whole_Blood), \"../tissue_specific_egenes_by_tissue/Whole_Blood.tissue.specifc.rv.egenes.tsv\", sep=\"\\n\")\n",
    "fwrite(as.list(res$Skin_Sun_Exposed_Lower_leg), \"../tissue_specific_egenes_by_tissue/Skin_Sun_Exposed_Lower_leg.tissue.specifc.rv.egenes.tsv\", sep=\"\\n\")\n",
    "fwrite(as.list(res$Skin_Not_Sun_Exposed_Suprapubic), \"../tissue_specific_egenes_by_tissue/Skin_Not_Sun_Exposed_Suprapubic.tissue.specifc.rv.egenes.tsv\", sep=\"\\n\")\n",
    "fwrite(as.list(res$Heart_Atrial_Appendage), \"../tissue_specific_egenes_by_tissue/Heart_Atrial_Appendage.tissue.specifc.rv.egenes.tsv\", sep=\"\\n\")\n",
    "fwrite(as.list(res$Heart_Left_Ventricle), \"../tissue_specific_egenes_by_tissue/Heart_Left_Ventricle.tissue.specifc.rv.egenes.tsv\", sep=\"\\n\")"
   ]
  },
  {
   "cell_type": "markdown",
   "metadata": {},
   "source": [
    "#### Tissue-specific non-RV eGenes"
   ]
  },
  {
   "cell_type": "code",
   "execution_count": 5,
   "metadata": {},
   "outputs": [],
   "source": [
    "get.non.egenes <- function(qvals) {\n",
    "    egenes = qvals$Gene_ID[apply(qvals, 1, function(x) {all(as.numeric(x[-1]) >= 0.05)})]\n",
    "    return(egenes)\n",
    "}"
   ]
  },
  {
   "cell_type": "code",
   "execution_count": 6,
   "metadata": {},
   "outputs": [],
   "source": [
    "non.egenes = lapply(q.data, get.non.egenes)"
   ]
  },
  {
   "cell_type": "code",
   "execution_count": 7,
   "metadata": {},
   "outputs": [],
   "source": [
    "res = get.tissue.specific.genes(non.egenes)"
   ]
  },
  {
   "cell_type": "code",
   "execution_count": 10,
   "metadata": {},
   "outputs": [],
   "source": [
    "fwrite(as.list(res$Lung), \"../tissue_specific_egenes_by_tissue/Lung.tissue.specifc.non.rv.egenes.tsv\", sep=\"\\n\")\n",
    "fwrite(as.list(res$Liver), \"../tissue_specific_egenes_by_tissue/Liver.tissue.specifc.non.rv.egenes.tsv\", sep=\"\\n\")\n",
    "fwrite(as.list(res$Whole_Blood), \"../tissue_specific_egenes_by_tissue/Whole_Blood.tissue.specifc.non.rv.egenes.tsv\", sep=\"\\n\")\n",
    "fwrite(as.list(res$Skin_Sun_Exposed_Lower_leg), \"../tissue_specific_egenes_by_tissue/Skin_Sun_Exposed_Lower_leg.tissue.specifc.non.rv.egenes.tsv\", sep=\"\\n\")\n",
    "fwrite(as.list(res$Skin_Not_Sun_Exposed_Suprapubic), \"../tissue_specific_egenes_by_tissue/Skin_Not_Sun_Exposed_Suprapubic.tissue.specifc.non.rv.egenes.tsv\", sep=\"\\n\")\n",
    "fwrite(as.list(res$Heart_Atrial_Appendage), \"../tissue_specific_egenes_by_tissue/Heart_Atrial_Appendage.tissue.specifc.non.rv.egenes.tsv\", sep=\"\\n\")\n",
    "fwrite(as.list(res$Heart_Left_Ventricle), \"../tissue_specific_egenes_by_tissue/Heart_Left_Ventricle.tissue.specifc.non.rv.egenes.tsv\", sep=\"\\n\")"
   ]
  },
  {
   "cell_type": "code",
   "execution_count": 8,
   "metadata": {},
   "outputs": [
    {
     "data": {
      "text/html": [
       "24650"
      ],
      "text/latex": [
       "24650"
      ],
      "text/markdown": [
       "24650"
      ],
      "text/plain": [
       "[1] 24650"
      ]
     },
     "metadata": {},
     "output_type": "display_data"
    }
   ],
   "source": [
    "length(non.egenes$Lung)"
   ]
  },
  {
   "cell_type": "markdown",
   "metadata": {},
   "source": [
    "#### RV eGenes example outlier"
   ]
  },
  {
   "cell_type": "code",
   "execution_count": 5,
   "metadata": {},
   "outputs": [],
   "source": [
    "library(data.table)\n",
    "library(dplyr)"
   ]
  },
  {
   "cell_type": "code",
   "execution_count": 9,
   "metadata": {},
   "outputs": [],
   "source": [
    "target.snp = \"chr20_59023753_G_A_b38\"\n",
    "geno = fread(\"/u/project/eeskin2/k8688933/rare_var/genotypes/v8/all_eur_samples_matrix_maf0.05/chr.20.genotypes.matrix.tsv\")"
   ]
  },
  {
   "cell_type": "code",
   "execution_count": 10,
   "metadata": {},
   "outputs": [
    {
     "name": "stdout",
     "output_type": "stream",
     "text": [
      "[1] \"GTEX-1192W\" \"GTEX-1GPI6\"\n"
     ]
    }
   ],
   "source": [
    "indiv = colnames(geno)[which(geno %>% filter(ID == target.snp) != 0)][-1]\n",
    "print(indiv)"
   ]
  },
  {
   "cell_type": "code",
   "execution_count": 12,
   "metadata": {},
   "outputs": [],
   "source": [
    "z.heart.lv = fread(\"/u/project/eeskin2/k8688933/rare_var/results/tss_20k_v8/result_summary/log2.standardized.corrected.tpm.rv.egenes.only/log2.standardized.corrected.lrt.rv.egenes.tpm.Heart_Left_Ventricle\")\n",
    "z.heart.aa = fread(\"/u/project/eeskin2/k8688933/rare_var/results/tss_20k_v8/result_summary/log2.standardized.corrected.tpm.rv.egenes.only/log2.standardized.corrected.lrt.rv.egenes.tpm.Heart_Atrial_Appendage\")\n",
    "z.skin.sun = fread(\"/u/project/eeskin2/k8688933/rare_var/results/tss_20k_v8/result_summary/log2.standardized.corrected.tpm.rv.egenes.only/log2.standardized.corrected.lrt.rv.egenes.tpm.Skin_Sun_Exposed_Lower_leg\")\n",
    "z.skin.not.sun = fread(\"/u/project/eeskin2/k8688933/rare_var/results/tss_20k_v8/result_summary/log2.standardized.corrected.tpm.rv.egenes.only/log2.standardized.corrected.lrt.rv.egenes.tpm.Skin_Not_Sun_Exposed_Suprapubic\")"
   ]
  },
  {
   "cell_type": "code",
   "execution_count": 13,
   "metadata": {},
   "outputs": [
    {
     "name": "stdout",
     "output_type": "stream",
     "text": [
      "[1] FALSE FALSE\n",
      "[1]  TRUE FALSE\n",
      "[1] FALSE  TRUE\n",
      "[1] TRUE TRUE\n"
     ]
    }
   ],
   "source": [
    "print(indiv %in% colnames(z.heart.lv)) # this SNP is not in heart left ventricle\n",
    "print(indiv %in% colnames(z.heart.aa))\n",
    "print(indiv %in% colnames(z.skin.not.sun))\n",
    "print(indiv %in% colnames(z.skin.sun))"
   ]
  },
  {
   "cell_type": "code",
   "execution_count": 15,
   "metadata": {},
   "outputs": [
    {
     "name": "stdout",
     "output_type": "stream",
     "text": [
      "[1] TRUE\n",
      "[1] FALSE\n",
      "[1] TRUE\n",
      "[1] TRUE\n"
     ]
    }
   ],
   "source": [
    "print(\"ENSG00000101162.3\" %in% z.heart.lv$gene)\n",
    "print(\"ENSG00000101162.3\" %in% z.heart.aa$gene)\n",
    "print(\"ENSG00000101162.3\" %in% z.skin.not.sun$gene)\n",
    "print(\"ENSG00000101162.3\" %in% z.skin.sun$gene)"
   ]
  },
  {
   "cell_type": "code",
   "execution_count": 17,
   "metadata": {},
   "outputs": [
    {
     "ename": "ERROR",
     "evalue": "Unknown columns `GTEX-1192W` and `GTEX-1GPI6` ",
     "output_type": "error",
     "traceback": [
      "Unknown columns `GTEX-1192W` and `GTEX-1GPI6` Traceback:\n",
      "1. z.heart.lv %>% filter(gene == \"ENSG00000101162.3\") %>% select(indiv)",
      "2. withVisible(eval(quote(`_fseq`(`_lhs`)), env, env))",
      "3. eval(quote(`_fseq`(`_lhs`)), env, env)",
      "4. eval(quote(`_fseq`(`_lhs`)), env, env)",
      "5. `_fseq`(`_lhs`)",
      "6. freduce(value, `_function_list`)",
      "7. withVisible(function_list[[k]](value))",
      "8. function_list[[k]](value)",
      "9. select(., indiv)",
      "10. select.data.frame(., indiv)",
      "11. tidyselect::vars_select(tbl_vars(.data), !!!enquos(...))",
      "12. vars_select_eval(.vars, quos)",
      "13. map_if(ind_list, is_character, match_strings, names = TRUE)",
      "14. map(.x[sel], .f, ...)",
      "15. .f(.x[[i]], ...)",
      "16. bad_unknown_vars(vars, unknown)",
      "17. abort(glue(\"Unknown { thing } { fmt_args(unknown) } \"))"
     ]
    }
   ],
   "source": [
    "z.heart.lv %>% filter(gene == \"ENSG00000101162.3\") %>% select(indiv)"
   ]
  },
  {
   "cell_type": "code",
   "execution_count": 24,
   "metadata": {},
   "outputs": [
    {
     "data": {
      "text/html": [
       "<table>\n",
       "<thead><tr><th scope=col>GTEX-1192W</th></tr></thead>\n",
       "<tbody>\n",
       "</tbody>\n",
       "</table>\n"
      ],
      "text/latex": [
       "\\begin{tabular}{r|l}\n",
       " GTEX-1192W\\\\\n",
       "\\hline\n",
       "\\end{tabular}\n"
      ],
      "text/markdown": [
       "\n",
       "GTEX-1192W | \n",
       "||\n",
       "\n",
       "\n"
      ],
      "text/plain": [
       "     GTEX-1192W"
      ]
     },
     "metadata": {},
     "output_type": "display_data"
    }
   ],
   "source": [
    "z.heart.aa %>% filter(gene == \"ENSG00000101162.3\") %>% select(indiv[1])"
   ]
  },
  {
   "cell_type": "code",
   "execution_count": 19,
   "metadata": {},
   "outputs": [
    {
     "data": {
      "text/html": [
       "<table>\n",
       "<thead><tr><th scope=col>GTEX-111FC</th><th scope=col>GTEX-111VG</th><th scope=col>GTEX-1122O</th><th scope=col>GTEX-1128S</th><th scope=col>GTEX-113JC</th><th scope=col>GTEX-117XS</th><th scope=col>GTEX-117YW</th><th scope=col>GTEX-1192W</th><th scope=col>GTEX-1192X</th><th scope=col>GTEX-11DXX</th><th scope=col>⋯</th><th scope=col>GTEX-ZVZP</th><th scope=col>GTEX-ZWKS</th><th scope=col>GTEX-ZXES</th><th scope=col>GTEX-ZXG5</th><th scope=col>GTEX-ZYFD</th><th scope=col>GTEX-ZYFG</th><th scope=col>GTEX-ZYT6</th><th scope=col>GTEX-ZYY3</th><th scope=col>GTEX-ZZ64</th><th scope=col>GTEX-ZZPT</th></tr></thead>\n",
       "<tbody>\n",
       "\t<tr><td>0.4485603  </td><td>-0.08238693</td><td>0.1169846  </td><td>0.01343363 </td><td>-0.5306936 </td><td>-0.1180192 </td><td>-0.1543491 </td><td>0.8902476  </td><td>-0.562793  </td><td>-0.6218577 </td><td>⋯          </td><td>-0.7511755 </td><td>0.4598045  </td><td>-0.2550396 </td><td>-1.110967  </td><td>-0.03891543</td><td>0.6415389  </td><td>-0.6896812 </td><td>0.8737349  </td><td>-0.2658977 </td><td>0.00853221 </td></tr>\n",
       "</tbody>\n",
       "</table>\n"
      ],
      "text/latex": [
       "\\begin{tabular}{r|llllllllllllllllllllllllllllllllllllllllllllllllllllllllllllllllllllllllllllllllllllllllllllllllllllllllllllllllllllllllllllllllllllllllllllllllllllllllllllllllllllllllllllllllllllllllllllllllllllllllllllllllllllllllllllllllllllllllllllllllllllllllllllllllllllllllllllllllllllllllllllllllllllllllllllllllllllllllllllllllllllllllllllllllllllllllllllllllllllllllllllllllllllllllllllllllllllllllllllllllllllllllllllllllllllllllllllllllllllllllllllllllllllllllllllllllllllllllllllllllllllllllllllllll}\n",
       " GTEX-111FC & GTEX-111VG & GTEX-1122O & GTEX-1128S & GTEX-113JC & GTEX-117XS & GTEX-117YW & GTEX-1192W & GTEX-1192X & GTEX-11DXX & ⋯ & GTEX-ZVZP & GTEX-ZWKS & GTEX-ZXES & GTEX-ZXG5 & GTEX-ZYFD & GTEX-ZYFG & GTEX-ZYT6 & GTEX-ZYY3 & GTEX-ZZ64 & GTEX-ZZPT\\\\\n",
       "\\hline\n",
       "\t 0.4485603   & -0.08238693 & 0.1169846   & 0.01343363  & -0.5306936  & -0.1180192  & -0.1543491  & 0.8902476   & -0.562793   & -0.6218577  & ⋯           & -0.7511755  & 0.4598045   & -0.2550396  & -1.110967   & -0.03891543 & 0.6415389   & -0.6896812  & 0.8737349   & -0.2658977  & 0.00853221 \\\\\n",
       "\\end{tabular}\n"
      ],
      "text/markdown": [
       "\n",
       "GTEX-111FC | GTEX-111VG | GTEX-1122O | GTEX-1128S | GTEX-113JC | GTEX-117XS | GTEX-117YW | GTEX-1192W | GTEX-1192X | GTEX-11DXX | ⋯ | GTEX-ZVZP | GTEX-ZWKS | GTEX-ZXES | GTEX-ZXG5 | GTEX-ZYFD | GTEX-ZYFG | GTEX-ZYT6 | GTEX-ZYY3 | GTEX-ZZ64 | GTEX-ZZPT | \n",
       "|---|\n",
       "| 0.4485603   | -0.08238693 | 0.1169846   | 0.01343363  | -0.5306936  | -0.1180192  | -0.1543491  | 0.8902476   | -0.562793   | -0.6218577  | ⋯           | -0.7511755  | 0.4598045   | -0.2550396  | -1.110967   | -0.03891543 | 0.6415389   | -0.6896812  | 0.8737349   | -0.2658977  | 0.00853221  | \n",
       "\n",
       "\n"
      ],
      "text/plain": [
       "  GTEX-111FC GTEX-111VG  GTEX-1122O GTEX-1128S GTEX-113JC GTEX-117XS GTEX-117YW\n",
       "1 0.4485603  -0.08238693 0.1169846  0.01343363 -0.5306936 -0.1180192 -0.1543491\n",
       "  GTEX-1192W GTEX-1192X GTEX-11DXX ⋯ GTEX-ZVZP  GTEX-ZWKS GTEX-ZXES  GTEX-ZXG5\n",
       "1 0.8902476  -0.562793  -0.6218577 ⋯ -0.7511755 0.4598045 -0.2550396 -1.110967\n",
       "  GTEX-ZYFD   GTEX-ZYFG GTEX-ZYT6  GTEX-ZYY3 GTEX-ZZ64  GTEX-ZZPT \n",
       "1 -0.03891543 0.6415389 -0.6896812 0.8737349 -0.2658977 0.00853221"
      ]
     },
     "metadata": {},
     "output_type": "display_data"
    }
   ],
   "source": [
    "idx = which(z.skin.sun$gene == \"ENSG00000101162.3\")\n",
    "z.skin.sun[idx, -1]"
   ]
  },
  {
   "cell_type": "code",
   "execution_count": 20,
   "metadata": {},
   "outputs": [
    {
     "data": {
      "text/html": [
       "<ol class=list-inline>\n",
       "\t<li>1.14712114685329</li>\n",
       "\t<li>-0.700798925466638</li>\n",
       "</ol>\n"
      ],
      "text/latex": [
       "\\begin{enumerate*}\n",
       "\\item 1.14712114685329\n",
       "\\item -0.700798925466638\n",
       "\\end{enumerate*}\n"
      ],
      "text/markdown": [
       "1. 1.14712114685329\n",
       "2. -0.700798925466638\n",
       "\n",
       "\n"
      ],
      "text/plain": [
       "[1]  1.1471211 -0.7007989"
      ]
     },
     "metadata": {},
     "output_type": "display_data"
    }
   ],
   "source": [
    "scaled.z.skin.sun = scale(t(as.data.frame(z.skin.sun)[idx, -1]))\n",
    "colnames(scaled.z.skin.sun) = c(\"z\")\n",
    "as.data.frame(scaled.z.skin.sun)[indiv, ] #%>% filter(abs(z) > 2)"
   ]
  },
  {
   "cell_type": "code",
   "execution_count": 21,
   "metadata": {},
   "outputs": [
    {
     "data": {
      "text/html": [
       "<ol class=list-inline>\n",
       "\t<li>'GTEX-11VI4'</li>\n",
       "\t<li>'GTEX-1314G'</li>\n",
       "\t<li>'GTEX-14E6E'</li>\n",
       "\t<li>'GTEX-17MFQ'</li>\n",
       "\t<li>'GTEX-1AYCT'</li>\n",
       "\t<li>'GTEX-1B8KZ'</li>\n",
       "\t<li>'GTEX-1F88F'</li>\n",
       "\t<li>'GTEX-RWS6'</li>\n",
       "\t<li>'GTEX-T2IS'</li>\n",
       "\t<li>'GTEX-T8EM'</li>\n",
       "\t<li>'GTEX-WYJK'</li>\n",
       "</ol>\n"
      ],
      "text/latex": [
       "\\begin{enumerate*}\n",
       "\\item 'GTEX-11VI4'\n",
       "\\item 'GTEX-1314G'\n",
       "\\item 'GTEX-14E6E'\n",
       "\\item 'GTEX-17MFQ'\n",
       "\\item 'GTEX-1AYCT'\n",
       "\\item 'GTEX-1B8KZ'\n",
       "\\item 'GTEX-1F88F'\n",
       "\\item 'GTEX-RWS6'\n",
       "\\item 'GTEX-T2IS'\n",
       "\\item 'GTEX-T8EM'\n",
       "\\item 'GTEX-WYJK'\n",
       "\\end{enumerate*}\n"
      ],
      "text/markdown": [
       "1. 'GTEX-11VI4'\n",
       "2. 'GTEX-1314G'\n",
       "3. 'GTEX-14E6E'\n",
       "4. 'GTEX-17MFQ'\n",
       "5. 'GTEX-1AYCT'\n",
       "6. 'GTEX-1B8KZ'\n",
       "7. 'GTEX-1F88F'\n",
       "8. 'GTEX-RWS6'\n",
       "9. 'GTEX-T2IS'\n",
       "10. 'GTEX-T8EM'\n",
       "11. 'GTEX-WYJK'\n",
       "\n",
       "\n"
      ],
      "text/plain": [
       " [1] \"GTEX-11VI4\" \"GTEX-1314G\" \"GTEX-14E6E\" \"GTEX-17MFQ\" \"GTEX-1AYCT\"\n",
       " [6] \"GTEX-1B8KZ\" \"GTEX-1F88F\" \"GTEX-RWS6\"  \"GTEX-T2IS\"  \"GTEX-T8EM\" \n",
       "[11] \"GTEX-WYJK\" "
      ]
     },
     "metadata": {},
     "output_type": "display_data"
    }
   ],
   "source": [
    "idx = which(z.skin.sun$gene == \"ENSG00000101162.3\")\n",
    "colnames(z.skin.sun)[which(abs(z.skin.sun[idx, -1]) > 2)]"
   ]
  },
  {
   "cell_type": "code",
   "execution_count": 25,
   "metadata": {},
   "outputs": [
    {
     "data": {
      "text/html": [
       "<table>\n",
       "<thead><tr><th scope=col>GTEX-1GPI6</th></tr></thead>\n",
       "<tbody>\n",
       "\t<tr><td>0.1479837</td></tr>\n",
       "</tbody>\n",
       "</table>\n"
      ],
      "text/latex": [
       "\\begin{tabular}{r|l}\n",
       " GTEX-1GPI6\\\\\n",
       "\\hline\n",
       "\t 0.1479837\\\\\n",
       "\\end{tabular}\n"
      ],
      "text/markdown": [
       "\n",
       "GTEX-1GPI6 | \n",
       "|---|\n",
       "| 0.1479837 | \n",
       "\n",
       "\n"
      ],
      "text/plain": [
       "  GTEX-1GPI6\n",
       "1 0.1479837 "
      ]
     },
     "metadata": {},
     "output_type": "display_data"
    }
   ],
   "source": [
    "z.skin.not.sun %>% filter(gene == \"ENSG00000101162.3\") %>% select(indiv[2])"
   ]
  },
  {
   "cell_type": "code",
   "execution_count": 23,
   "metadata": {},
   "outputs": [
    {
     "data": {
      "text/html": [
       "<table>\n",
       "<thead><tr><th scope=col>GTEX-1192W</th><th scope=col>GTEX-1GPI6</th></tr></thead>\n",
       "<tbody>\n",
       "\t<tr><td>0.8902476 </td><td>-0.5438698</td></tr>\n",
       "</tbody>\n",
       "</table>\n"
      ],
      "text/latex": [
       "\\begin{tabular}{r|ll}\n",
       " GTEX-1192W & GTEX-1GPI6\\\\\n",
       "\\hline\n",
       "\t 0.8902476  & -0.5438698\\\\\n",
       "\\end{tabular}\n"
      ],
      "text/markdown": [
       "\n",
       "GTEX-1192W | GTEX-1GPI6 | \n",
       "|---|\n",
       "| 0.8902476  | -0.5438698 | \n",
       "\n",
       "\n"
      ],
      "text/plain": [
       "  GTEX-1192W GTEX-1GPI6\n",
       "1 0.8902476  -0.5438698"
      ]
     },
     "metadata": {},
     "output_type": "display_data"
    }
   ],
   "source": [
    "z.skin.sun %>% filter(gene == \"ENSG00000101162.3\") %>% select(indiv)"
   ]
  },
  {
   "cell_type": "markdown",
   "metadata": {},
   "source": [
    "#### RV eGenes example outliers in all tissues"
   ]
  },
  {
   "cell_type": "code",
   "execution_count": 32,
   "metadata": {},
   "outputs": [],
   "source": [
    "z.scores = lapply(dir(\"/u/project/eeskin2/k8688933/rare_var/results/tss_20k_v8/result_summary/log2.standardized.corrected.tpm.rv.egenes.only/\",\n",
    "                     pattern=\"log2.standardized.corrected.lrt.rv.egenes.tpm\", full.names=T), function(x) {if(file.size(x) > 1) {fread(x, data.table=F)}})\n",
    "names(z.scores) = fread(\"../egene.counts.csv\")$tissue"
   ]
  },
  {
   "cell_type": "code",
   "execution_count": 33,
   "metadata": {},
   "outputs": [
    {
     "data": {
      "text/plain": [
       "NULL"
      ]
     },
     "metadata": {},
     "output_type": "display_data"
    }
   ],
   "source": [
    "z.scores[[17]]"
   ]
  },
  {
   "cell_type": "code",
   "execution_count": 41,
   "metadata": {},
   "outputs": [
    {
     "name": "stdout",
     "output_type": "stream",
     "text": [
      "[1] \"Artery_Tibial\"\n",
      "[1] 0.3049973\n",
      "[1] \"Breast_Mammary_Tissue\"\n",
      "[1] 0.9585913\n",
      "[1] \"Cells_Cultured_fibroblasts\"\n",
      "[1] -0.9428877\n",
      "[1] \"Muscle_Skeletal\"\n",
      "[1] -0.3236698\n",
      "[1] \"Nerve_Tibial\"\n",
      "[1] -0.9148684\n",
      "[1] \"Pituitary\"\n",
      "[1]  0.9132187 -0.2465423\n",
      "[1] \"Skin_Not_Sun_Exposed_Suprapubic\"\n",
      "[1] 0.2872161\n",
      "[1] \"Skin_Sun_Exposed_Lower_leg\"\n",
      "[1]  1.1471211 -0.7007989\n",
      "[1] \"Thyroid\"\n",
      "[1] -0.06988852\n"
     ]
    }
   ],
   "source": [
    "for (i in 1:48) {\n",
    "    z = z.scores[[i]]\n",
    "    if (is.null(z)) {\n",
    "        next\n",
    "    }\n",
    "    if (!any(indiv %in% colnames(z))) {\n",
    "        next\n",
    "    }\n",
    "    if (!\"ENSG00000101162.3\" %in% z$gene) {\n",
    "        next\n",
    "    }\n",
    "    idx = which(z$gene == \"ENSG00000101162.3\")\n",
    "    scaled.z = scale(t(as.data.frame(z)[idx, -1]))\n",
    "    colnames(scaled.z) = c(\"z\")\n",
    "    print(names(z.scores)[[i]])\n",
    "    print(as.data.frame(scaled.z)[indiv[which(indiv %in% row.names(scaled.z))], ])\n",
    "}"
   ]
  },
  {
   "cell_type": "code",
   "execution_count": null,
   "metadata": {},
   "outputs": [],
   "source": []
  }
 ],
 "metadata": {
  "kernelspec": {
   "display_name": "R",
   "language": "R",
   "name": "ir"
  },
  "language_info": {
   "codemirror_mode": "r",
   "file_extension": ".r",
   "mimetype": "text/x-r-source",
   "name": "R",
   "pygments_lexer": "r",
   "version": "3.5.1"
  }
 },
 "nbformat": 4,
 "nbformat_minor": 4
}

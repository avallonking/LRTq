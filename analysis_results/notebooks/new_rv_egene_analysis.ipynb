{
 "cells": [
  {
   "cell_type": "markdown",
   "metadata": {},
   "source": [
    "#### Tissue-specific RV eGenes"
   ]
  },
  {
   "cell_type": "code",
   "execution_count": 1,
   "metadata": {},
   "outputs": [
    {
     "name": "stderr",
     "output_type": "stream",
     "text": [
      "\n",
      "Attaching package: ‘dplyr’\n",
      "\n",
      "The following objects are masked from ‘package:data.table’:\n",
      "\n",
      "    between, first, last\n",
      "\n",
      "The following objects are masked from ‘package:stats’:\n",
      "\n",
      "    filter, lag\n",
      "\n",
      "The following objects are masked from ‘package:base’:\n",
      "\n",
      "    intersect, setdiff, setequal, union\n",
      "\n"
     ]
    }
   ],
   "source": [
    "library(data.table)\n",
    "library(dplyr)\n",
    "\n",
    "load.data <- function(tissue) {\n",
    "    filename <- paste(\"/u/project/eeskin2/k8688933/rare_var/results/tss_20k_v8/result_summary/qvals/\", tissue, \".lrt.q\", sep=\"\")\n",
    "    \n",
    "    return(fread(filename, data.table=F))\n",
    "}\n",
    "\n",
    "get.egenes <- function(qvals) {\n",
    "    egenes = qvals$Gene_ID[apply(qvals, 1, function(x) {any(as.numeric(x[-1]) < 0.05)})]\n",
    "    return(egenes)\n",
    "}\n",
    "\n",
    "get.tissue.specific.genes <- function(egenes.list) {\n",
    "    res = vector(\"list\", length(egenes.list))\n",
    "    names(res) = names(egenes.list)\n",
    "    for (i in 1:length(egenes.list)) {\n",
    "        res[[i]] = egenes.list[[i]][!egenes.list[[i]] %in% unique(unlist(egenes.list[-i]))]\n",
    "    }\n",
    "    return(res)\n",
    "}"
   ]
  },
  {
   "cell_type": "code",
   "execution_count": 2,
   "metadata": {},
   "outputs": [],
   "source": [
    "sample.info = fread(\"/u/project/eeskin2/k8688933/rare_var/results/tss_20k_v8/result_summary/tissue.name.match.csv\")\n",
    "tissues = sample.info$tissue\n",
    "\n",
    "q.data = lapply(tissues, load.data)\n",
    "names(q.data) = tissues"
   ]
  },
  {
   "cell_type": "code",
   "execution_count": 3,
   "metadata": {},
   "outputs": [],
   "source": [
    "egenes = lapply(q.data, get.egenes)"
   ]
  },
  {
   "cell_type": "code",
   "execution_count": 4,
   "metadata": {},
   "outputs": [],
   "source": [
    "res = get.tissue.specific.genes(egenes)"
   ]
  },
  {
   "cell_type": "code",
   "execution_count": 6,
   "metadata": {},
   "outputs": [],
   "source": [
    "fwrite(as.list(res$Lung), \"../tissue_specific_egenes_by_tissue/Lung.tissue.specifc.rv.egenes.tsv\", sep=\"\\n\")\n",
    "fwrite(as.list(res$Liver), \"../tissue_specific_egenes_by_tissue/Liver.tissue.specifc.rv.egenes.tsv\", sep=\"\\n\")\n",
    "fwrite(as.list(res$Whole_Blood), \"../tissue_specific_egenes_by_tissue/Whole_Blood.tissue.specifc.rv.egenes.tsv\", sep=\"\\n\")\n",
    "fwrite(as.list(res$Skin_Sun_Exposed_Lower_leg), \"../tissue_specific_egenes_by_tissue/Skin_Sun_Exposed_Lower_leg.tissue.specifc.rv.egenes.tsv\", sep=\"\\n\")\n",
    "fwrite(as.list(res$Skin_Not_Sun_Exposed_Suprapubic), \"../tissue_specific_egenes_by_tissue/Skin_Not_Sun_Exposed_Suprapubic.tissue.specifc.rv.egenes.tsv\", sep=\"\\n\")\n",
    "fwrite(as.list(res$Heart_Atrial_Appendage), \"../tissue_specific_egenes_by_tissue/Heart_Atrial_Appendage.tissue.specifc.rv.egenes.tsv\", sep=\"\\n\")\n",
    "fwrite(as.list(res$Heart_Left_Ventricle), \"../tissue_specific_egenes_by_tissue/Heart_Left_Ventricle.tissue.specifc.rv.egenes.tsv\", sep=\"\\n\")"
   ]
  },
  {
   "cell_type": "markdown",
   "metadata": {},
   "source": [
    "#### Tissue-specific non-RV eGenes"
   ]
  },
  {
   "cell_type": "code",
   "execution_count": 7,
   "metadata": {},
   "outputs": [],
   "source": [
    "get.non.egenes <- function(qvals) {\n",
    "    egenes = qvals$Gene_ID[apply(qvals, 1, function(x) {all(as.numeric(x[-1]) >= 0.05)})]\n",
    "    return(egenes)\n",
    "}"
   ]
  },
  {
   "cell_type": "code",
   "execution_count": 8,
   "metadata": {},
   "outputs": [],
   "source": [
    "non.egenes = lapply(q.data, get.non.egenes)"
   ]
  },
  {
   "cell_type": "code",
   "execution_count": 9,
   "metadata": {},
   "outputs": [],
   "source": [
    "res = get.tissue.specific.genes(non.egenes)"
   ]
  },
  {
   "cell_type": "code",
   "execution_count": 10,
   "metadata": {},
   "outputs": [],
   "source": [
    "fwrite(as.list(res$Lung), \"../tissue_specific_egenes_by_tissue/Lung.tissue.specifc.non.rv.egenes.tsv\", sep=\"\\n\")\n",
    "fwrite(as.list(res$Liver), \"../tissue_specific_egenes_by_tissue/Liver.tissue.specifc.non.rv.egenes.tsv\", sep=\"\\n\")\n",
    "fwrite(as.list(res$Whole_Blood), \"../tissue_specific_egenes_by_tissue/Whole_Blood.tissue.specifc.non.rv.egenes.tsv\", sep=\"\\n\")\n",
    "fwrite(as.list(res$Skin_Sun_Exposed_Lower_leg), \"../tissue_specific_egenes_by_tissue/Skin_Sun_Exposed_Lower_leg.tissue.specifc.non.rv.egenes.tsv\", sep=\"\\n\")\n",
    "fwrite(as.list(res$Skin_Not_Sun_Exposed_Suprapubic), \"../tissue_specific_egenes_by_tissue/Skin_Not_Sun_Exposed_Suprapubic.tissue.specifc.non.rv.egenes.tsv\", sep=\"\\n\")\n",
    "fwrite(as.list(res$Heart_Atrial_Appendage), \"../tissue_specific_egenes_by_tissue/Heart_Atrial_Appendage.tissue.specifc.non.rv.egenes.tsv\", sep=\"\\n\")\n",
    "fwrite(as.list(res$Heart_Left_Ventricle), \"../tissue_specific_egenes_by_tissue/Heart_Left_Ventricle.tissue.specifc.non.rv.egenes.tsv\", sep=\"\\n\")"
   ]
  },
  {
   "cell_type": "code",
   "execution_count": 11,
   "metadata": {},
   "outputs": [
    {
     "data": {
      "text/html": [
       "24650"
      ],
      "text/latex": [
       "24650"
      ],
      "text/markdown": [
       "24650"
      ],
      "text/plain": [
       "[1] 24650"
      ]
     },
     "metadata": {},
     "output_type": "display_data"
    }
   ],
   "source": [
    "length(non.egenes$Lung)"
   ]
  },
  {
   "cell_type": "markdown",
   "metadata": {},
   "source": [
    "#### RV eGenes example outlier"
   ]
  },
  {
   "cell_type": "code",
   "execution_count": 12,
   "metadata": {},
   "outputs": [],
   "source": [
    "library(data.table)\n",
    "library(dplyr)"
   ]
  },
  {
   "cell_type": "code",
   "execution_count": 20,
   "metadata": {},
   "outputs": [],
   "source": [
    "target.snp = \"chr20_57598808_G_A_b38\"\n",
    "geno = fread(\"/u/project/eeskin2/k8688933/rare_var/genotypes/v8/all_eur_samples_matrix_maf0.05/chr.20.genotypes.matrix.tsv\")"
   ]
  },
  {
   "cell_type": "code",
   "execution_count": 21,
   "metadata": {},
   "outputs": [
    {
     "ename": "ERROR",
     "evalue": "Error in matrix(if (is.null(value)) logical() else value, nrow = nr, dimnames = list(rn, : length of 'dimnames' [2] not equal to array extent\n",
     "output_type": "error",
     "traceback": [
      "Error in matrix(if (is.null(value)) logical() else value, nrow = nr, dimnames = list(rn, : length of 'dimnames' [2] not equal to array extent\nTraceback:\n",
      "1. which(geno %>% filter(ID == target.snp) != 0)",
      "2. Ops.data.frame(geno %>% filter(ID == target.snp), 0)",
      "3. matrix(if (is.null(value)) logical() else value, nrow = nr, dimnames = list(rn, \n .     cn))"
     ]
    }
   ],
   "source": [
    "indiv = colnames(geno)[which(geno %>% filter(ID == target.snp) != 0)][-1]\n",
    "print(indiv)"
   ]
  },
  {
   "cell_type": "code",
   "execution_count": 5,
   "metadata": {},
   "outputs": [],
   "source": [
    "z.heart.lv = fread(\"/u/project/eeskin2/k8688933/rare_var/results/tss_20k_v7/sungoohw/result_summary/log2.standardized.corrected.tpm.egenes.only/log2.standardized.corrected.lrt.tpm.Heart_Left_Ventricle\")\n",
    "z.heart.aa = fread(\"/u/project/eeskin2/k8688933/rare_var/results/tss_20k_v7/sungoohw/result_summary/log2.standardized.corrected.tpm.egenes.only/log2.standardized.corrected.lrt.tpm.Heart_Atrial_Appendage\")\n",
    "z.skin.sun = fread(\"/u/project/eeskin2/k8688933/rare_var/results/tss_20k_v7/sungoohw/result_summary/log2.standardized.corrected.tpm.egenes.only/log2.standardized.corrected.lrt.tpm.Skin_Sun_Exposed_Lower_leg\")\n",
    "z.skin.not.sun = fread(\"/u/project/eeskin2/k8688933/rare_var/results/tss_20k_v7/sungoohw/result_summary/log2.standardized.corrected.tpm.egenes.only/log2.standardized.corrected.lrt.tpm.Skin_Not_Sun_Exposed_Suprapubic\")"
   ]
  },
  {
   "cell_type": "code",
   "execution_count": 6,
   "metadata": {},
   "outputs": [
    {
     "name": "stdout",
     "output_type": "stream",
     "text": [
      "[1] FALSE\n",
      "[1] TRUE\n",
      "[1] FALSE\n",
      "[1] TRUE\n"
     ]
    }
   ],
   "source": [
    "print(indiv %in% colnames(z.heart.lv)) # this SNP is not in heart left ventricle\n",
    "print(indiv %in% colnames(z.heart.aa))\n",
    "print(indiv %in% colnames(z.skin.not.sun))\n",
    "print(indiv %in% colnames(z.skin.sun))"
   ]
  },
  {
   "cell_type": "code",
   "execution_count": 7,
   "metadata": {},
   "outputs": [
    {
     "name": "stdout",
     "output_type": "stream",
     "text": [
      "[1] TRUE\n",
      "[1] FALSE\n",
      "[1] FALSE\n",
      "[1] TRUE\n"
     ]
    }
   ],
   "source": [
    "print(\"ENSG00000101162\" %in% z.heart.lv$gene)\n",
    "print(\"ENSG00000101162\" %in% z.heart.aa$gene)\n",
    "print(\"ENSG00000101162\" %in% z.skin.not.sun$gene)\n",
    "print(\"ENSG00000101162\" %in% z.skin.sun$gene)"
   ]
  },
  {
   "cell_type": "code",
   "execution_count": 12,
   "metadata": {
    "collapsed": true,
    "jupyter": {
     "outputs_hidden": true
    }
   },
   "outputs": [
    {
     "name": "stderr",
     "output_type": "stream",
     "text": [
      "Note: Using an external vector in selections is ambiguous.\n",
      "\u001b[34mℹ\u001b[39m Use `all_of(indiv)` instead of `indiv` to silence this message.\n",
      "\u001b[34mℹ\u001b[39m See <https://tidyselect.r-lib.org/reference/faq-external-vector.html>.\n",
      "\u001b[90mThis message is displayed once per session.\u001b[39m\n",
      "\n"
     ]
    },
    {
     "ename": "ERROR",
     "evalue": "Error: Can't subset columns that don't exist.\n\u001b[31m✖\u001b[39m Column `GTEX-1192W` doesn't exist.\n",
     "output_type": "error",
     "traceback": [
      "Error: Can't subset columns that don't exist.\n\u001b[31m✖\u001b[39m Column `GTEX-1192W` doesn't exist.\nTraceback:\n",
      "1. z.heart.lv %>% filter(gene == \"ENSG00000101162\") %>% select(indiv)",
      "2. withVisible(eval(quote(`_fseq`(`_lhs`)), env, env))",
      "3. eval(quote(`_fseq`(`_lhs`)), env, env)",
      "4. eval(quote(`_fseq`(`_lhs`)), env, env)",
      "5. `_fseq`(`_lhs`)",
      "6. freduce(value, `_function_list`)",
      "7. withVisible(function_list[[k]](value))",
      "8. function_list[[k]](value)",
      "9. select(., indiv)",
      "10. select.data.frame(., indiv)",
      "11. tidyselect::eval_select(expr(c(...)), .data)",
      "12. eval_select_impl(data, names(data), as_quosure(expr, env), include = include, \n  .     exclude = exclude, strict = strict, name_spec = name_spec, \n  .     allow_rename = allow_rename)",
      "13. with_subscript_errors(vars_select_eval(vars, expr, strict, data = x, \n  .     name_spec = name_spec, uniquely_named = uniquely_named, allow_rename = allow_rename, \n  .     type = type), type = type)",
      "14. tryCatch(instrument_base_errors(expr), vctrs_error_subscript = function(cnd) {\n  .     cnd$subscript_action <- subscript_action(type)\n  .     cnd$subscript_elt <- \"column\"\n  .     cnd_signal(cnd)\n  . })",
      "15. tryCatchList(expr, classes, parentenv, handlers)",
      "16. tryCatchOne(expr, names, parentenv, handlers[[1L]])",
      "17. value[[3L]](cond)",
      "18. cnd_signal(cnd)",
      "19. rlang:::signal_abort(x)"
     ]
    }
   ],
   "source": [
    "z.heart.lv %>% filter(gene == \"ENSG00000101162\") %>% select(indiv)"
   ]
  },
  {
   "cell_type": "code",
   "execution_count": 17,
   "metadata": {},
   "outputs": [
    {
     "data": {
      "text/html": [
       "<table>\n",
       "<caption>A data.table: 0 × 1</caption>\n",
       "<thead>\n",
       "\t<tr><th scope=col>GTEX-1192W</th></tr>\n",
       "\t<tr><th scope=col>&lt;dbl&gt;</th></tr>\n",
       "</thead>\n",
       "<tbody>\n",
       "</tbody>\n",
       "</table>\n"
      ],
      "text/latex": [
       "A data.table: 0 × 1\n",
       "\\begin{tabular}{l}\n",
       " GTEX-1192W\\\\\n",
       " <dbl>\\\\\n",
       "\\hline\n",
       "\\end{tabular}\n"
      ],
      "text/markdown": [
       "\n",
       "A data.table: 0 × 1\n",
       "\n",
       "| GTEX-1192W &lt;dbl&gt; |\n",
       "|---|\n",
       "\n"
      ],
      "text/plain": [
       "     GTEX-1192W"
      ]
     },
     "metadata": {},
     "output_type": "display_data"
    }
   ],
   "source": [
    "z.heart.aa %>% filter(gene == \"ENSG00000101162\") %>% select(indiv)"
   ]
  },
  {
   "cell_type": "code",
   "execution_count": 40,
   "metadata": {},
   "outputs": [
    {
     "data": {
      "text/html": [
       "<table>\n",
       "<caption>A data.table: 1 × 353</caption>\n",
       "<thead>\n",
       "\t<tr><th scope=col>GTEX-111FC</th><th scope=col>GTEX-111VG</th><th scope=col>GTEX-1122O</th><th scope=col>GTEX-1128S</th><th scope=col>GTEX-113JC</th><th scope=col>GTEX-117XS</th><th scope=col>GTEX-117YW</th><th scope=col>GTEX-1192W</th><th scope=col>GTEX-1192X</th><th scope=col>GTEX-11DXX</th><th scope=col>⋯</th><th scope=col>GTEX-ZVZP</th><th scope=col>GTEX-ZWKS</th><th scope=col>GTEX-ZXES</th><th scope=col>GTEX-ZXG5</th><th scope=col>GTEX-ZYFD</th><th scope=col>GTEX-ZYFG</th><th scope=col>GTEX-ZYT6</th><th scope=col>GTEX-ZYY3</th><th scope=col>GTEX-ZZ64</th><th scope=col>GTEX-ZZPT</th></tr>\n",
       "\t<tr><th scope=col>&lt;dbl&gt;</th><th scope=col>&lt;dbl&gt;</th><th scope=col>&lt;dbl&gt;</th><th scope=col>&lt;dbl&gt;</th><th scope=col>&lt;dbl&gt;</th><th scope=col>&lt;dbl&gt;</th><th scope=col>&lt;dbl&gt;</th><th scope=col>&lt;dbl&gt;</th><th scope=col>&lt;dbl&gt;</th><th scope=col>&lt;dbl&gt;</th><th scope=col>⋯</th><th scope=col>&lt;dbl&gt;</th><th scope=col>&lt;dbl&gt;</th><th scope=col>&lt;dbl&gt;</th><th scope=col>&lt;dbl&gt;</th><th scope=col>&lt;dbl&gt;</th><th scope=col>&lt;dbl&gt;</th><th scope=col>&lt;dbl&gt;</th><th scope=col>&lt;dbl&gt;</th><th scope=col>&lt;dbl&gt;</th><th scope=col>&lt;dbl&gt;</th></tr>\n",
       "</thead>\n",
       "<tbody>\n",
       "\t<tr><td>0.2039781</td><td>0.1152965</td><td>0.2654655</td><td>0.07899095</td><td>-0.2788954</td><td>0.1023136</td><td>-0.3533411</td><td>0.8834474</td><td>-0.1525341</td><td>-0.2199295</td><td>⋯</td><td>-0.5025168</td><td>0.5314344</td><td>-0.02838276</td><td>-0.7154214</td><td>-0.2346717</td><td>1.058739</td><td>-0.8418631</td><td>0.9270844</td><td>-0.4574895</td><td>-0.1990843</td></tr>\n",
       "</tbody>\n",
       "</table>\n"
      ],
      "text/latex": [
       "A data.table: 1 × 353\n",
       "\\begin{tabular}{lllllllllllllllllllll}\n",
       " GTEX-111FC & GTEX-111VG & GTEX-1122O & GTEX-1128S & GTEX-113JC & GTEX-117XS & GTEX-117YW & GTEX-1192W & GTEX-1192X & GTEX-11DXX & ⋯ & GTEX-ZVZP & GTEX-ZWKS & GTEX-ZXES & GTEX-ZXG5 & GTEX-ZYFD & GTEX-ZYFG & GTEX-ZYT6 & GTEX-ZYY3 & GTEX-ZZ64 & GTEX-ZZPT\\\\\n",
       " <dbl> & <dbl> & <dbl> & <dbl> & <dbl> & <dbl> & <dbl> & <dbl> & <dbl> & <dbl> & ⋯ & <dbl> & <dbl> & <dbl> & <dbl> & <dbl> & <dbl> & <dbl> & <dbl> & <dbl> & <dbl>\\\\\n",
       "\\hline\n",
       "\t 0.2039781 & 0.1152965 & 0.2654655 & 0.07899095 & -0.2788954 & 0.1023136 & -0.3533411 & 0.8834474 & -0.1525341 & -0.2199295 & ⋯ & -0.5025168 & 0.5314344 & -0.02838276 & -0.7154214 & -0.2346717 & 1.058739 & -0.8418631 & 0.9270844 & -0.4574895 & -0.1990843\\\\\n",
       "\\end{tabular}\n"
      ],
      "text/markdown": [
       "\n",
       "A data.table: 1 × 353\n",
       "\n",
       "| GTEX-111FC &lt;dbl&gt; | GTEX-111VG &lt;dbl&gt; | GTEX-1122O &lt;dbl&gt; | GTEX-1128S &lt;dbl&gt; | GTEX-113JC &lt;dbl&gt; | GTEX-117XS &lt;dbl&gt; | GTEX-117YW &lt;dbl&gt; | GTEX-1192W &lt;dbl&gt; | GTEX-1192X &lt;dbl&gt; | GTEX-11DXX &lt;dbl&gt; | ⋯ ⋯ | GTEX-ZVZP &lt;dbl&gt; | GTEX-ZWKS &lt;dbl&gt; | GTEX-ZXES &lt;dbl&gt; | GTEX-ZXG5 &lt;dbl&gt; | GTEX-ZYFD &lt;dbl&gt; | GTEX-ZYFG &lt;dbl&gt; | GTEX-ZYT6 &lt;dbl&gt; | GTEX-ZYY3 &lt;dbl&gt; | GTEX-ZZ64 &lt;dbl&gt; | GTEX-ZZPT &lt;dbl&gt; |\n",
       "|---|---|---|---|---|---|---|---|---|---|---|---|---|---|---|---|---|---|---|---|---|\n",
       "| 0.2039781 | 0.1152965 | 0.2654655 | 0.07899095 | -0.2788954 | 0.1023136 | -0.3533411 | 0.8834474 | -0.1525341 | -0.2199295 | ⋯ | -0.5025168 | 0.5314344 | -0.02838276 | -0.7154214 | -0.2346717 | 1.058739 | -0.8418631 | 0.9270844 | -0.4574895 | -0.1990843 |\n",
       "\n"
      ],
      "text/plain": [
       "  GTEX-111FC GTEX-111VG GTEX-1122O GTEX-1128S GTEX-113JC GTEX-117XS GTEX-117YW\n",
       "1 0.2039781  0.1152965  0.2654655  0.07899095 -0.2788954 0.1023136  -0.3533411\n",
       "  GTEX-1192W GTEX-1192X GTEX-11DXX ⋯ GTEX-ZVZP  GTEX-ZWKS GTEX-ZXES  \n",
       "1 0.8834474  -0.1525341 -0.2199295 ⋯ -0.5025168 0.5314344 -0.02838276\n",
       "  GTEX-ZXG5  GTEX-ZYFD  GTEX-ZYFG GTEX-ZYT6  GTEX-ZYY3 GTEX-ZZ64  GTEX-ZZPT \n",
       "1 -0.7154214 -0.2346717 1.058739  -0.8418631 0.9270844 -0.4574895 -0.1990843"
      ]
     },
     "metadata": {},
     "output_type": "display_data"
    }
   ],
   "source": [
    "idx = which(z.skin.sun$gene == \"ENSG00000101162\")\n",
    "z.skin.sun[idx, -1]"
   ]
  },
  {
   "cell_type": "code",
   "execution_count": 41,
   "metadata": {},
   "outputs": [
    {
     "data": {
      "text/html": [
       "1.19834437819148"
      ],
      "text/latex": [
       "1.19834437819148"
      ],
      "text/markdown": [
       "1.19834437819148"
      ],
      "text/plain": [
       "[1] 1.198344"
      ]
     },
     "metadata": {},
     "output_type": "display_data"
    }
   ],
   "source": [
    "scaled.z.skin.sun = scale(t(as.data.frame(z.skin.sun)[idx, -1]))\n",
    "colnames(scaled.z.skin.sun) = c(\"z\")\n",
    "as.data.frame(scaled.z.skin.sun)[indiv, ] #%>% filter(abs(z) > 2)"
   ]
  },
  {
   "cell_type": "code",
   "execution_count": 28,
   "metadata": {},
   "outputs": [
    {
     "data": {
      "text/html": [
       "<style>\n",
       ".list-inline {list-style: none; margin:0; padding: 0}\n",
       ".list-inline>li {display: inline-block}\n",
       ".list-inline>li:not(:last-child)::after {content: \"\\00b7\"; padding: 0 .5ex}\n",
       "</style>\n",
       "<ol class=list-inline><li>'GTEX-14E6E'</li><li>'GTEX-17MFQ'</li><li>'GTEX-1AYCT'</li><li>'GTEX-R3RS'</li><li>'GTEX-RWS6'</li><li>'GTEX-WYJK'</li></ol>\n"
      ],
      "text/latex": [
       "\\begin{enumerate*}\n",
       "\\item 'GTEX-14E6E'\n",
       "\\item 'GTEX-17MFQ'\n",
       "\\item 'GTEX-1AYCT'\n",
       "\\item 'GTEX-R3RS'\n",
       "\\item 'GTEX-RWS6'\n",
       "\\item 'GTEX-WYJK'\n",
       "\\end{enumerate*}\n"
      ],
      "text/markdown": [
       "1. 'GTEX-14E6E'\n",
       "2. 'GTEX-17MFQ'\n",
       "3. 'GTEX-1AYCT'\n",
       "4. 'GTEX-R3RS'\n",
       "5. 'GTEX-RWS6'\n",
       "6. 'GTEX-WYJK'\n",
       "\n",
       "\n"
      ],
      "text/plain": [
       "[1] \"GTEX-14E6E\" \"GTEX-17MFQ\" \"GTEX-1AYCT\" \"GTEX-R3RS\"  \"GTEX-RWS6\" \n",
       "[6] \"GTEX-WYJK\" "
      ]
     },
     "metadata": {},
     "output_type": "display_data"
    }
   ],
   "source": [
    "idx = which(z.skin.sun$gene == \"ENSG00000101162\")\n",
    "colnames(z.skin.sun)[which(abs(z.skin.sun[idx, -1]) > 2)]"
   ]
  },
  {
   "cell_type": "code",
   "execution_count": 20,
   "metadata": {
    "collapsed": true,
    "jupyter": {
     "outputs_hidden": true
    }
   },
   "outputs": [
    {
     "ename": "ERROR",
     "evalue": "Error: Can't subset columns that don't exist.\n\u001b[31m✖\u001b[39m Column `GTEX-1192W` doesn't exist.\n",
     "output_type": "error",
     "traceback": [
      "Error: Can't subset columns that don't exist.\n\u001b[31m✖\u001b[39m Column `GTEX-1192W` doesn't exist.\nTraceback:\n",
      "1. z.skin.not.sun %>% filter(gene == \"ENSG00000101162\") %>% select(indiv)",
      "2. withVisible(eval(quote(`_fseq`(`_lhs`)), env, env))",
      "3. eval(quote(`_fseq`(`_lhs`)), env, env)",
      "4. eval(quote(`_fseq`(`_lhs`)), env, env)",
      "5. `_fseq`(`_lhs`)",
      "6. freduce(value, `_function_list`)",
      "7. withVisible(function_list[[k]](value))",
      "8. function_list[[k]](value)",
      "9. select(., indiv)",
      "10. select.data.frame(., indiv)",
      "11. tidyselect::eval_select(expr(c(...)), .data)",
      "12. eval_select_impl(data, names(data), as_quosure(expr, env), include = include, \n  .     exclude = exclude, strict = strict, name_spec = name_spec, \n  .     allow_rename = allow_rename)",
      "13. with_subscript_errors(vars_select_eval(vars, expr, strict, data = x, \n  .     name_spec = name_spec, uniquely_named = uniquely_named, allow_rename = allow_rename, \n  .     type = type), type = type)",
      "14. tryCatch(instrument_base_errors(expr), vctrs_error_subscript = function(cnd) {\n  .     cnd$subscript_action <- subscript_action(type)\n  .     cnd$subscript_elt <- \"column\"\n  .     cnd_signal(cnd)\n  . })",
      "15. tryCatchList(expr, classes, parentenv, handlers)",
      "16. tryCatchOne(expr, names, parentenv, handlers[[1L]])",
      "17. value[[3L]](cond)",
      "18. cnd_signal(cnd)",
      "19. rlang:::signal_abort(x)"
     ]
    }
   ],
   "source": [
    "z.skin.not.sun %>% filter(gene == \"ENSG00000101162\") %>% select(indiv)"
   ]
  },
  {
   "cell_type": "markdown",
   "metadata": {},
   "source": [
    "#### RV eGenes example outliers in all tissues"
   ]
  },
  {
   "cell_type": "code",
   "execution_count": 32,
   "metadata": {},
   "outputs": [],
   "source": [
    "z.scores = lapply(dir(\"/u/project/eeskin2/k8688933/rare_var/results/tss_20k_v7/sungoohw/result_summary/log2.standardized.corrected.tpm.egenes.only/\",\n",
    "                     pattern=\"log2.standardized.corrected.lrt.tpm\", full.names=T), function(x) {if(file.size(x) > 1) {fread(x, data.table=F)}})\n",
    "names(z.scores) = fread(\"../egene.counts.csv\")$tissue"
   ]
  },
  {
   "cell_type": "code",
   "execution_count": 38,
   "metadata": {},
   "outputs": [
    {
     "data": {
      "text/html": [
       "<table>\n",
       "<caption>A data.frame: 7 × 99</caption>\n",
       "<thead>\n",
       "\t<tr><th scope=col>gene</th><th scope=col>GTEX-11GSP</th><th scope=col>GTEX-12WSA</th><th scope=col>GTEX-12WSE</th><th scope=col>GTEX-12WSF</th><th scope=col>GTEX-12WSI</th><th scope=col>GTEX-12WSM</th><th scope=col>GTEX-12ZZW</th><th scope=col>GTEX-12ZZY</th><th scope=col>GTEX-12ZZZ</th><th scope=col>⋯</th><th scope=col>GTEX-Z93S</th><th scope=col>GTEX-ZAB4</th><th scope=col>GTEX-ZDXO</th><th scope=col>GTEX-ZE7O</th><th scope=col>GTEX-ZF28</th><th scope=col>GTEX-ZUA1</th><th scope=col>GTEX-ZV68</th><th scope=col>GTEX-ZVT3</th><th scope=col>GTEX-ZVZQ</th><th scope=col>GTEX-ZXG5</th></tr>\n",
       "\t<tr><th scope=col>&lt;chr&gt;</th><th scope=col>&lt;dbl&gt;</th><th scope=col>&lt;dbl&gt;</th><th scope=col>&lt;dbl&gt;</th><th scope=col>&lt;dbl&gt;</th><th scope=col>&lt;dbl&gt;</th><th scope=col>&lt;dbl&gt;</th><th scope=col>&lt;dbl&gt;</th><th scope=col>&lt;dbl&gt;</th><th scope=col>&lt;dbl&gt;</th><th scope=col>⋯</th><th scope=col>&lt;dbl&gt;</th><th scope=col>&lt;dbl&gt;</th><th scope=col>&lt;dbl&gt;</th><th scope=col>&lt;dbl&gt;</th><th scope=col>&lt;dbl&gt;</th><th scope=col>&lt;dbl&gt;</th><th scope=col>&lt;dbl&gt;</th><th scope=col>&lt;dbl&gt;</th><th scope=col>&lt;dbl&gt;</th><th scope=col>&lt;dbl&gt;</th></tr>\n",
       "</thead>\n",
       "<tbody>\n",
       "\t<tr><td>ENSG00000138400</td><td>-0.1425735261</td><td> 0.5598580</td><td>-0.009521177</td><td> 0.096497876</td><td> 0.14470750</td><td>-0.18602453</td><td>-0.38944793</td><td> 0.43207037</td><td> 0.08791188</td><td>⋯</td><td>-0.2806467</td><td> 0.2665336</td><td>-0.31800346</td><td>-0.13203161</td><td>-0.01970965</td><td> 0.40001689</td><td> 0.36359174</td><td>-0.76132422</td><td> 0.2177883</td><td> 0.08682875</td></tr>\n",
       "\t<tr><td>ENSG00000204305</td><td> 0.4873792930</td><td> 1.0799562</td><td> 0.182151643</td><td> 0.007546178</td><td> 0.61044826</td><td> 0.02626529</td><td> 0.44288272</td><td> 0.33717416</td><td> 0.67086188</td><td>⋯</td><td> 0.1444489</td><td>-0.6254287</td><td>-0.77314893</td><td> 0.08544676</td><td>-0.57612190</td><td>-0.47990811</td><td>-0.40994767</td><td>-0.07367223</td><td> 0.7407547</td><td>-0.35066421</td></tr>\n",
       "\t<tr><td>ENSG00000234444</td><td>-0.0267629823</td><td> 0.3769541</td><td>-0.171975506</td><td> 0.417429907</td><td> 0.09382641</td><td> 0.19029165</td><td>-0.22850692</td><td> 0.16660748</td><td> 0.33456041</td><td>⋯</td><td>-0.4282121</td><td>-0.1215563</td><td>-0.09824164</td><td> 0.18849717</td><td>-0.24032572</td><td> 0.14761464</td><td>-0.46129846</td><td>-0.47910572</td><td> 0.5160244</td><td>-0.02622756</td></tr>\n",
       "\t<tr><td>ENSG00000042088</td><td>-0.5187204168</td><td> 0.1001740</td><td> 0.209528847</td><td>-0.081237878</td><td> 0.42132292</td><td>-0.09549990</td><td>-0.07940635</td><td>-0.04602879</td><td>-0.43201383</td><td>⋯</td><td>-0.0401152</td><td>-0.1684276</td><td> 0.01412545</td><td> 0.38891589</td><td>-0.13459428</td><td>-0.23815591</td><td> 0.08085638</td><td>-0.11412633</td><td> 0.3103567</td><td> 0.17618307</td></tr>\n",
       "\t<tr><td>ENSG00000248905</td><td>-0.4271095282</td><td>-0.2959900</td><td>-0.136268182</td><td> 1.847318094</td><td>-0.20999195</td><td>-0.20693268</td><td>-0.21319501</td><td> 0.05375057</td><td>-0.67372492</td><td>⋯</td><td> 2.4275551</td><td> 0.1367045</td><td> 0.54651824</td><td> 0.11398416</td><td>-1.31615622</td><td>-0.16591567</td><td>-0.03676289</td><td> 0.47900141</td><td>-0.3659196</td><td>-0.05090383</td></tr>\n",
       "\t<tr><td>ENSG00000102886</td><td> 0.8745975203</td><td> 1.1908550</td><td>-0.213096408</td><td> 0.335269825</td><td>-0.53508456</td><td> 0.50453505</td><td>-0.28209968</td><td> 0.27273912</td><td> 0.42907571</td><td>⋯</td><td> 0.2574764</td><td>-0.4445439</td><td>-0.67180209</td><td>-0.17533581</td><td>-0.88923589</td><td> 0.14716581</td><td>-0.91046848</td><td>-0.21927518</td><td> 0.3987926</td><td> 0.51970677</td></tr>\n",
       "\t<tr><td>ENSG00000100031</td><td>-0.0002616167</td><td> 1.4961935</td><td> 0.639553142</td><td> 0.314863410</td><td> 0.26877783</td><td>-0.19559533</td><td>-0.64345072</td><td> 0.17573649</td><td> 0.28672154</td><td>⋯</td><td>-0.3396258</td><td> 0.4261632</td><td>-0.09855915</td><td>-0.10866910</td><td>-0.21766317</td><td>-0.08002626</td><td> 0.01719741</td><td>-0.17923401</td><td> 0.4413240</td><td> 0.67735989</td></tr>\n",
       "</tbody>\n",
       "</table>\n"
      ],
      "text/latex": [
       "A data.frame: 7 × 99\n",
       "\\begin{tabular}{lllllllllllllllllllll}\n",
       " gene & GTEX-11GSP & GTEX-12WSA & GTEX-12WSE & GTEX-12WSF & GTEX-12WSI & GTEX-12WSM & GTEX-12ZZW & GTEX-12ZZY & GTEX-12ZZZ & ⋯ & GTEX-Z93S & GTEX-ZAB4 & GTEX-ZDXO & GTEX-ZE7O & GTEX-ZF28 & GTEX-ZUA1 & GTEX-ZV68 & GTEX-ZVT3 & GTEX-ZVZQ & GTEX-ZXG5\\\\\n",
       " <chr> & <dbl> & <dbl> & <dbl> & <dbl> & <dbl> & <dbl> & <dbl> & <dbl> & <dbl> & ⋯ & <dbl> & <dbl> & <dbl> & <dbl> & <dbl> & <dbl> & <dbl> & <dbl> & <dbl> & <dbl>\\\\\n",
       "\\hline\n",
       "\t ENSG00000138400 & -0.1425735261 &  0.5598580 & -0.009521177 &  0.096497876 &  0.14470750 & -0.18602453 & -0.38944793 &  0.43207037 &  0.08791188 & ⋯ & -0.2806467 &  0.2665336 & -0.31800346 & -0.13203161 & -0.01970965 &  0.40001689 &  0.36359174 & -0.76132422 &  0.2177883 &  0.08682875\\\\\n",
       "\t ENSG00000204305 &  0.4873792930 &  1.0799562 &  0.182151643 &  0.007546178 &  0.61044826 &  0.02626529 &  0.44288272 &  0.33717416 &  0.67086188 & ⋯ &  0.1444489 & -0.6254287 & -0.77314893 &  0.08544676 & -0.57612190 & -0.47990811 & -0.40994767 & -0.07367223 &  0.7407547 & -0.35066421\\\\\n",
       "\t ENSG00000234444 & -0.0267629823 &  0.3769541 & -0.171975506 &  0.417429907 &  0.09382641 &  0.19029165 & -0.22850692 &  0.16660748 &  0.33456041 & ⋯ & -0.4282121 & -0.1215563 & -0.09824164 &  0.18849717 & -0.24032572 &  0.14761464 & -0.46129846 & -0.47910572 &  0.5160244 & -0.02622756\\\\\n",
       "\t ENSG00000042088 & -0.5187204168 &  0.1001740 &  0.209528847 & -0.081237878 &  0.42132292 & -0.09549990 & -0.07940635 & -0.04602879 & -0.43201383 & ⋯ & -0.0401152 & -0.1684276 &  0.01412545 &  0.38891589 & -0.13459428 & -0.23815591 &  0.08085638 & -0.11412633 &  0.3103567 &  0.17618307\\\\\n",
       "\t ENSG00000248905 & -0.4271095282 & -0.2959900 & -0.136268182 &  1.847318094 & -0.20999195 & -0.20693268 & -0.21319501 &  0.05375057 & -0.67372492 & ⋯ &  2.4275551 &  0.1367045 &  0.54651824 &  0.11398416 & -1.31615622 & -0.16591567 & -0.03676289 &  0.47900141 & -0.3659196 & -0.05090383\\\\\n",
       "\t ENSG00000102886 &  0.8745975203 &  1.1908550 & -0.213096408 &  0.335269825 & -0.53508456 &  0.50453505 & -0.28209968 &  0.27273912 &  0.42907571 & ⋯ &  0.2574764 & -0.4445439 & -0.67180209 & -0.17533581 & -0.88923589 &  0.14716581 & -0.91046848 & -0.21927518 &  0.3987926 &  0.51970677\\\\\n",
       "\t ENSG00000100031 & -0.0002616167 &  1.4961935 &  0.639553142 &  0.314863410 &  0.26877783 & -0.19559533 & -0.64345072 &  0.17573649 &  0.28672154 & ⋯ & -0.3396258 &  0.4261632 & -0.09855915 & -0.10866910 & -0.21766317 & -0.08002626 &  0.01719741 & -0.17923401 &  0.4413240 &  0.67735989\\\\\n",
       "\\end{tabular}\n"
      ],
      "text/markdown": [
       "\n",
       "A data.frame: 7 × 99\n",
       "\n",
       "| gene &lt;chr&gt; | GTEX-11GSP &lt;dbl&gt; | GTEX-12WSA &lt;dbl&gt; | GTEX-12WSE &lt;dbl&gt; | GTEX-12WSF &lt;dbl&gt; | GTEX-12WSI &lt;dbl&gt; | GTEX-12WSM &lt;dbl&gt; | GTEX-12ZZW &lt;dbl&gt; | GTEX-12ZZY &lt;dbl&gt; | GTEX-12ZZZ &lt;dbl&gt; | ⋯ ⋯ | GTEX-Z93S &lt;dbl&gt; | GTEX-ZAB4 &lt;dbl&gt; | GTEX-ZDXO &lt;dbl&gt; | GTEX-ZE7O &lt;dbl&gt; | GTEX-ZF28 &lt;dbl&gt; | GTEX-ZUA1 &lt;dbl&gt; | GTEX-ZV68 &lt;dbl&gt; | GTEX-ZVT3 &lt;dbl&gt; | GTEX-ZVZQ &lt;dbl&gt; | GTEX-ZXG5 &lt;dbl&gt; |\n",
       "|---|---|---|---|---|---|---|---|---|---|---|---|---|---|---|---|---|---|---|---|---|\n",
       "| ENSG00000138400 | -0.1425735261 |  0.5598580 | -0.009521177 |  0.096497876 |  0.14470750 | -0.18602453 | -0.38944793 |  0.43207037 |  0.08791188 | ⋯ | -0.2806467 |  0.2665336 | -0.31800346 | -0.13203161 | -0.01970965 |  0.40001689 |  0.36359174 | -0.76132422 |  0.2177883 |  0.08682875 |\n",
       "| ENSG00000204305 |  0.4873792930 |  1.0799562 |  0.182151643 |  0.007546178 |  0.61044826 |  0.02626529 |  0.44288272 |  0.33717416 |  0.67086188 | ⋯ |  0.1444489 | -0.6254287 | -0.77314893 |  0.08544676 | -0.57612190 | -0.47990811 | -0.40994767 | -0.07367223 |  0.7407547 | -0.35066421 |\n",
       "| ENSG00000234444 | -0.0267629823 |  0.3769541 | -0.171975506 |  0.417429907 |  0.09382641 |  0.19029165 | -0.22850692 |  0.16660748 |  0.33456041 | ⋯ | -0.4282121 | -0.1215563 | -0.09824164 |  0.18849717 | -0.24032572 |  0.14761464 | -0.46129846 | -0.47910572 |  0.5160244 | -0.02622756 |\n",
       "| ENSG00000042088 | -0.5187204168 |  0.1001740 |  0.209528847 | -0.081237878 |  0.42132292 | -0.09549990 | -0.07940635 | -0.04602879 | -0.43201383 | ⋯ | -0.0401152 | -0.1684276 |  0.01412545 |  0.38891589 | -0.13459428 | -0.23815591 |  0.08085638 | -0.11412633 |  0.3103567 |  0.17618307 |\n",
       "| ENSG00000248905 | -0.4271095282 | -0.2959900 | -0.136268182 |  1.847318094 | -0.20999195 | -0.20693268 | -0.21319501 |  0.05375057 | -0.67372492 | ⋯ |  2.4275551 |  0.1367045 |  0.54651824 |  0.11398416 | -1.31615622 | -0.16591567 | -0.03676289 |  0.47900141 | -0.3659196 | -0.05090383 |\n",
       "| ENSG00000102886 |  0.8745975203 |  1.1908550 | -0.213096408 |  0.335269825 | -0.53508456 |  0.50453505 | -0.28209968 |  0.27273912 |  0.42907571 | ⋯ |  0.2574764 | -0.4445439 | -0.67180209 | -0.17533581 | -0.88923589 |  0.14716581 | -0.91046848 | -0.21927518 |  0.3987926 |  0.51970677 |\n",
       "| ENSG00000100031 | -0.0002616167 |  1.4961935 |  0.639553142 |  0.314863410 |  0.26877783 | -0.19559533 | -0.64345072 |  0.17573649 |  0.28672154 | ⋯ | -0.3396258 |  0.4261632 | -0.09855915 | -0.10866910 | -0.21766317 | -0.08002626 |  0.01719741 | -0.17923401 |  0.4413240 |  0.67735989 |\n",
       "\n"
      ],
      "text/plain": [
       "  gene            GTEX-11GSP    GTEX-12WSA GTEX-12WSE   GTEX-12WSF  \n",
       "1 ENSG00000138400 -0.1425735261  0.5598580 -0.009521177  0.096497876\n",
       "2 ENSG00000204305  0.4873792930  1.0799562  0.182151643  0.007546178\n",
       "3 ENSG00000234444 -0.0267629823  0.3769541 -0.171975506  0.417429907\n",
       "4 ENSG00000042088 -0.5187204168  0.1001740  0.209528847 -0.081237878\n",
       "5 ENSG00000248905 -0.4271095282 -0.2959900 -0.136268182  1.847318094\n",
       "6 ENSG00000102886  0.8745975203  1.1908550 -0.213096408  0.335269825\n",
       "7 ENSG00000100031 -0.0002616167  1.4961935  0.639553142  0.314863410\n",
       "  GTEX-12WSI  GTEX-12WSM  GTEX-12ZZW  GTEX-12ZZY  GTEX-12ZZZ  ⋯ GTEX-Z93S \n",
       "1  0.14470750 -0.18602453 -0.38944793  0.43207037  0.08791188 ⋯ -0.2806467\n",
       "2  0.61044826  0.02626529  0.44288272  0.33717416  0.67086188 ⋯  0.1444489\n",
       "3  0.09382641  0.19029165 -0.22850692  0.16660748  0.33456041 ⋯ -0.4282121\n",
       "4  0.42132292 -0.09549990 -0.07940635 -0.04602879 -0.43201383 ⋯ -0.0401152\n",
       "5 -0.20999195 -0.20693268 -0.21319501  0.05375057 -0.67372492 ⋯  2.4275551\n",
       "6 -0.53508456  0.50453505 -0.28209968  0.27273912  0.42907571 ⋯  0.2574764\n",
       "7  0.26877783 -0.19559533 -0.64345072  0.17573649  0.28672154 ⋯ -0.3396258\n",
       "  GTEX-ZAB4  GTEX-ZDXO   GTEX-ZE7O   GTEX-ZF28   GTEX-ZUA1   GTEX-ZV68  \n",
       "1  0.2665336 -0.31800346 -0.13203161 -0.01970965  0.40001689  0.36359174\n",
       "2 -0.6254287 -0.77314893  0.08544676 -0.57612190 -0.47990811 -0.40994767\n",
       "3 -0.1215563 -0.09824164  0.18849717 -0.24032572  0.14761464 -0.46129846\n",
       "4 -0.1684276  0.01412545  0.38891589 -0.13459428 -0.23815591  0.08085638\n",
       "5  0.1367045  0.54651824  0.11398416 -1.31615622 -0.16591567 -0.03676289\n",
       "6 -0.4445439 -0.67180209 -0.17533581 -0.88923589  0.14716581 -0.91046848\n",
       "7  0.4261632 -0.09855915 -0.10866910 -0.21766317 -0.08002626  0.01719741\n",
       "  GTEX-ZVT3   GTEX-ZVZQ  GTEX-ZXG5  \n",
       "1 -0.76132422  0.2177883  0.08682875\n",
       "2 -0.07367223  0.7407547 -0.35066421\n",
       "3 -0.47910572  0.5160244 -0.02622756\n",
       "4 -0.11412633  0.3103567  0.17618307\n",
       "5  0.47900141 -0.3659196 -0.05090383\n",
       "6 -0.21927518  0.3987926  0.51970677\n",
       "7 -0.17923401  0.4413240  0.67735989"
      ]
     },
     "metadata": {},
     "output_type": "display_data"
    }
   ],
   "source": [
    "z.scores[[17]]"
   ]
  },
  {
   "cell_type": "code",
   "execution_count": 40,
   "metadata": {},
   "outputs": [
    {
     "name": "stdout",
     "output_type": "stream",
     "text": [
      "[1] \"Cells_Transformed_fibroblasts\"\n",
      "[1] -0.5617182\n",
      "[1] \"Pituitary\"\n",
      "[1] 1.693557\n",
      "[1] \"Skin_Sun_Exposed_Lower_leg\"\n",
      "[1] 1.198344\n",
      "[1] \"Thyroid\"\n",
      "[1] 0.04230034\n"
     ]
    }
   ],
   "source": [
    "for (i in 1:48) {\n",
    "    z = z.scores[[i]]\n",
    "    if (is.null(z)) {\n",
    "        next\n",
    "    }\n",
    "    if (!indiv %in% colnames(z)) {\n",
    "        next\n",
    "    }\n",
    "    if (!\"ENSG00000101162\" %in% z$gene) {\n",
    "        next\n",
    "    }\n",
    "    idx = which(z$gene == \"ENSG00000101162\")\n",
    "    scaled.z = scale(t(as.data.frame(z)[idx, -1]))\n",
    "    colnames(scaled.z) = c(\"z\")\n",
    "    print(names(z.scores)[[i]])\n",
    "    print(as.data.frame(scaled.z)[indiv, ])\n",
    "}"
   ]
  },
  {
   "cell_type": "code",
   "execution_count": null,
   "metadata": {},
   "outputs": [],
   "source": []
  }
 ],
 "metadata": {
  "kernelspec": {
   "display_name": "R",
   "language": "R",
   "name": "ir"
  },
  "language_info": {
   "codemirror_mode": "r",
   "file_extension": ".r",
   "mimetype": "text/x-r-source",
   "name": "R",
   "pygments_lexer": "r",
   "version": "3.5.1"
  }
 },
 "nbformat": 4,
 "nbformat_minor": 4
}

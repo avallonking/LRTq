{
 "cells": [
  {
   "cell_type": "code",
   "execution_count": 1,
   "metadata": {},
   "outputs": [],
   "source": [
    "library(data.table)"
   ]
  },
  {
   "cell_type": "code",
   "execution_count": 2,
   "metadata": {},
   "outputs": [],
   "source": [
    "tissue.list = fread(\"/u/project/eeskin2/k8688933/rare_var/results/tss_20k_v8/result_summary/tissue.list\", header = F)"
   ]
  },
  {
   "cell_type": "code",
   "execution_count": 5,
   "metadata": {},
   "outputs": [],
   "source": [
    "total.samples = fread(\"/u/project/eeskin2/k8688933/rare_var/eur_samples/v8_total_samples/sample.list\")"
   ]
  },
  {
   "cell_type": "code",
   "execution_count": 12,
   "metadata": {},
   "outputs": [],
   "source": [
    "eur.samples = fread(\"/u/project/eeskin2/k8688933/rare_var/eur_samples/GTEx.EUR.v8.list\", header = F)"
   ]
  },
  {
   "cell_type": "code",
   "execution_count": 38,
   "metadata": {},
   "outputs": [],
   "source": [
    "files = dir(\"/u/project/eeskin2/k8688933/rare_var/expression_matrices/v8/\", full.names = T)\n",
    "files = unique(gsub(\".tbi\", \"\", files))"
   ]
  },
  {
   "cell_type": "code",
   "execution_count": 67,
   "metadata": {},
   "outputs": [],
   "source": [
    "tissue.names = tstrsplit(basename(files), \"\\\\.\")[[1]]"
   ]
  },
  {
   "cell_type": "code",
   "execution_count": 45,
   "metadata": {},
   "outputs": [],
   "source": [
    "tissue.samples = lapply(files, function(x) fread(cmd = paste(\"zcat\", x), nrows = 1))"
   ]
  },
  {
   "cell_type": "code",
   "execution_count": 55,
   "metadata": {},
   "outputs": [],
   "source": [
    "tissue.samples = lapply(tissue.samples, function(x) colnames(x)[-c(1:4)])"
   ]
  },
  {
   "cell_type": "code",
   "execution_count": 81,
   "metadata": {},
   "outputs": [],
   "source": [
    "tissue.genes = lapply(files, function(x) nrow(fread(cmd = paste(\"zcat\", x))))"
   ]
  },
  {
   "cell_type": "code",
   "execution_count": 83,
   "metadata": {},
   "outputs": [],
   "source": [
    "tissue.genes = unlist(tissue.genes)"
   ]
  },
  {
   "cell_type": "code",
   "execution_count": 56,
   "metadata": {},
   "outputs": [],
   "source": [
    "eur.samples.per.tissue = lapply(tissue.samples, function(x) sum(x %in% eur.samples$V1))"
   ]
  },
  {
   "cell_type": "code",
   "execution_count": 69,
   "metadata": {},
   "outputs": [],
   "source": [
    "names(eur.samples.per.tissue) = tissue.names"
   ]
  },
  {
   "cell_type": "code",
   "execution_count": 78,
   "metadata": {},
   "outputs": [],
   "source": [
    "tissue.list$total.samples = total.samples$V2\n",
    "tissue.list$eur.samples = unlist(eur.samples.per.tissue)\n",
    "colnames(tissue.list)[1] = \"tissue\""
   ]
  },
  {
   "cell_type": "code",
   "execution_count": 85,
   "metadata": {},
   "outputs": [],
   "source": [
    "tissue.list$genes = tissue.genes"
   ]
  },
  {
   "cell_type": "code",
   "execution_count": 88,
   "metadata": {},
   "outputs": [],
   "source": [
    "fwrite(tissue.list, \"/u/project/eeskin2/k8688933/rare_var/results/tss_20k_v8/result_summary/sample.size.csv\")"
   ]
  }
 ],
 "metadata": {
  "kernelspec": {
   "display_name": "R",
   "language": "R",
   "name": "ir"
  },
  "language_info": {
   "codemirror_mode": "r",
   "file_extension": ".r",
   "mimetype": "text/x-r-source",
   "name": "R",
   "pygments_lexer": "r",
   "version": "3.5.1"
  }
 },
 "nbformat": 4,
 "nbformat_minor": 4
}
